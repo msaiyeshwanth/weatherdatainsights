{
 "cells": [
  {
   "cell_type": "code",
   "execution_count": 1,
   "id": "947323b2-6042-46f1-bfaf-07395893fc98",
   "metadata": {},
   "outputs": [
    {
     "data": {
      "text/html": [
       "<div>\n",
       "<style scoped>\n",
       "    .dataframe tbody tr th:only-of-type {\n",
       "        vertical-align: middle;\n",
       "    }\n",
       "\n",
       "    .dataframe tbody tr th {\n",
       "        vertical-align: top;\n",
       "    }\n",
       "\n",
       "    .dataframe thead th {\n",
       "        text-align: right;\n",
       "    }\n",
       "</style>\n",
       "<table border=\"1\" class=\"dataframe\">\n",
       "  <thead>\n",
       "    <tr style=\"text-align: right;\">\n",
       "      <th></th>\n",
       "      <th>datetime</th>\n",
       "      <th>city</th>\n",
       "      <th>humidity</th>\n",
       "      <th>pressure</th>\n",
       "      <th>temperature</th>\n",
       "      <th>wind_speed</th>\n",
       "      <th>wind_direction</th>\n",
       "      <th>latitude</th>\n",
       "      <th>longitude</th>\n",
       "      <th>weather</th>\n",
       "    </tr>\n",
       "  </thead>\n",
       "  <tbody>\n",
       "    <tr>\n",
       "      <th>0</th>\n",
       "      <td>2017-01-01 00:00:00</td>\n",
       "      <td>Portland</td>\n",
       "      <td>96.0</td>\n",
       "      <td>1017.0</td>\n",
       "      <td>35.582</td>\n",
       "      <td>3.0</td>\n",
       "      <td>160.0</td>\n",
       "      <td>45.523449</td>\n",
       "      <td>-122.676208</td>\n",
       "      <td>foggy</td>\n",
       "    </tr>\n",
       "    <tr>\n",
       "      <th>1</th>\n",
       "      <td>2017-01-01 01:00:00</td>\n",
       "      <td>Portland</td>\n",
       "      <td>96.0</td>\n",
       "      <td>1016.0</td>\n",
       "      <td>35.852</td>\n",
       "      <td>2.0</td>\n",
       "      <td>200.0</td>\n",
       "      <td>45.523449</td>\n",
       "      <td>-122.676208</td>\n",
       "      <td>rainy</td>\n",
       "    </tr>\n",
       "    <tr>\n",
       "      <th>2</th>\n",
       "      <td>2017-01-01 02:00:00</td>\n",
       "      <td>Portland</td>\n",
       "      <td>99.0</td>\n",
       "      <td>1015.0</td>\n",
       "      <td>35.600</td>\n",
       "      <td>3.0</td>\n",
       "      <td>221.0</td>\n",
       "      <td>45.523449</td>\n",
       "      <td>-122.676208</td>\n",
       "      <td>foggy</td>\n",
       "    </tr>\n",
       "    <tr>\n",
       "      <th>3</th>\n",
       "      <td>2017-01-01 03:00:00</td>\n",
       "      <td>Portland</td>\n",
       "      <td>99.0</td>\n",
       "      <td>1014.0</td>\n",
       "      <td>35.312</td>\n",
       "      <td>2.0</td>\n",
       "      <td>170.0</td>\n",
       "      <td>45.523449</td>\n",
       "      <td>-122.676208</td>\n",
       "      <td>rainy</td>\n",
       "    </tr>\n",
       "    <tr>\n",
       "      <th>4</th>\n",
       "      <td>2017-01-01 04:00:00</td>\n",
       "      <td>Portland</td>\n",
       "      <td>99.0</td>\n",
       "      <td>1013.0</td>\n",
       "      <td>34.826</td>\n",
       "      <td>1.0</td>\n",
       "      <td>210.0</td>\n",
       "      <td>45.523449</td>\n",
       "      <td>-122.676208</td>\n",
       "      <td>rainy</td>\n",
       "    </tr>\n",
       "  </tbody>\n",
       "</table>\n",
       "</div>"
      ],
      "text/plain": [
       "              datetime      city  humidity  pressure  temperature  wind_speed  \\\n",
       "0  2017-01-01 00:00:00  Portland      96.0    1017.0       35.582         3.0   \n",
       "1  2017-01-01 01:00:00  Portland      96.0    1016.0       35.852         2.0   \n",
       "2  2017-01-01 02:00:00  Portland      99.0    1015.0       35.600         3.0   \n",
       "3  2017-01-01 03:00:00  Portland      99.0    1014.0       35.312         2.0   \n",
       "4  2017-01-01 04:00:00  Portland      99.0    1013.0       34.826         1.0   \n",
       "\n",
       "   wind_direction   latitude   longitude weather  \n",
       "0           160.0  45.523449 -122.676208   foggy  \n",
       "1           200.0  45.523449 -122.676208   rainy  \n",
       "2           221.0  45.523449 -122.676208   foggy  \n",
       "3           170.0  45.523449 -122.676208   rainy  \n",
       "4           210.0  45.523449 -122.676208   rainy  "
      ]
     },
     "execution_count": 1,
     "metadata": {},
     "output_type": "execute_result"
    }
   ],
   "source": [
    "# loading cleaned weather dataset\n",
    "import pandas as pd\n",
    "import numpy as np\n",
    "df = pd.read_csv('cleaned_data.csv')\n",
    "df.head()"
   ]
  },
  {
   "cell_type": "code",
   "execution_count": 2,
   "id": "89aee6d1-f38d-47bb-ba1c-aca4c587b968",
   "metadata": {},
   "outputs": [
    {
     "data": {
      "text/html": [
       "<div>\n",
       "<style scoped>\n",
       "    .dataframe tbody tr th:only-of-type {\n",
       "        vertical-align: middle;\n",
       "    }\n",
       "\n",
       "    .dataframe tbody tr th {\n",
       "        vertical-align: top;\n",
       "    }\n",
       "\n",
       "    .dataframe thead th {\n",
       "        text-align: right;\n",
       "    }\n",
       "</style>\n",
       "<table border=\"1\" class=\"dataframe\">\n",
       "  <thead>\n",
       "    <tr style=\"text-align: right;\">\n",
       "      <th></th>\n",
       "      <th>datetime</th>\n",
       "      <th>humidity</th>\n",
       "      <th>pressure</th>\n",
       "      <th>temperature</th>\n",
       "      <th>wind_speed</th>\n",
       "      <th>wind_direction</th>\n",
       "      <th>latitude</th>\n",
       "      <th>longitude</th>\n",
       "      <th>weather</th>\n",
       "    </tr>\n",
       "  </thead>\n",
       "  <tbody>\n",
       "    <tr>\n",
       "      <th>0</th>\n",
       "      <td>2017-01-01 00:00:00</td>\n",
       "      <td>36.0</td>\n",
       "      <td>1006.0</td>\n",
       "      <td>37.814</td>\n",
       "      <td>3.0</td>\n",
       "      <td>10.0</td>\n",
       "      <td>39.739151</td>\n",
       "      <td>-104.984703</td>\n",
       "      <td>clear</td>\n",
       "    </tr>\n",
       "    <tr>\n",
       "      <th>1</th>\n",
       "      <td>2017-01-01 01:00:00</td>\n",
       "      <td>36.0</td>\n",
       "      <td>1006.0</td>\n",
       "      <td>29.174</td>\n",
       "      <td>2.0</td>\n",
       "      <td>340.0</td>\n",
       "      <td>39.739151</td>\n",
       "      <td>-104.984703</td>\n",
       "      <td>cloudy</td>\n",
       "    </tr>\n",
       "    <tr>\n",
       "      <th>2</th>\n",
       "      <td>2017-01-01 02:00:00</td>\n",
       "      <td>68.0</td>\n",
       "      <td>1008.0</td>\n",
       "      <td>28.418</td>\n",
       "      <td>1.0</td>\n",
       "      <td>189.0</td>\n",
       "      <td>39.739151</td>\n",
       "      <td>-104.984703</td>\n",
       "      <td>clear</td>\n",
       "    </tr>\n",
       "    <tr>\n",
       "      <th>3</th>\n",
       "      <td>2017-01-01 03:00:00</td>\n",
       "      <td>79.0</td>\n",
       "      <td>1008.0</td>\n",
       "      <td>26.924</td>\n",
       "      <td>1.0</td>\n",
       "      <td>210.0</td>\n",
       "      <td>39.739151</td>\n",
       "      <td>-104.984703</td>\n",
       "      <td>clear</td>\n",
       "    </tr>\n",
       "    <tr>\n",
       "      <th>4</th>\n",
       "      <td>2017-01-01 04:00:00</td>\n",
       "      <td>79.0</td>\n",
       "      <td>1008.0</td>\n",
       "      <td>25.142</td>\n",
       "      <td>1.0</td>\n",
       "      <td>189.0</td>\n",
       "      <td>39.739151</td>\n",
       "      <td>-104.984703</td>\n",
       "      <td>clear</td>\n",
       "    </tr>\n",
       "    <tr>\n",
       "      <th>...</th>\n",
       "      <td>...</td>\n",
       "      <td>...</td>\n",
       "      <td>...</td>\n",
       "      <td>...</td>\n",
       "      <td>...</td>\n",
       "      <td>...</td>\n",
       "      <td>...</td>\n",
       "      <td>...</td>\n",
       "      <td>...</td>\n",
       "    </tr>\n",
       "    <tr>\n",
       "      <th>7988</th>\n",
       "      <td>2017-11-29 20:00:00</td>\n",
       "      <td>18.0</td>\n",
       "      <td>1016.0</td>\n",
       "      <td>61.538</td>\n",
       "      <td>3.0</td>\n",
       "      <td>310.0</td>\n",
       "      <td>39.739151</td>\n",
       "      <td>-104.984703</td>\n",
       "      <td>cloudy</td>\n",
       "    </tr>\n",
       "    <tr>\n",
       "      <th>7989</th>\n",
       "      <td>2017-11-29 21:00:00</td>\n",
       "      <td>12.0</td>\n",
       "      <td>1018.0</td>\n",
       "      <td>63.590</td>\n",
       "      <td>6.0</td>\n",
       "      <td>300.0</td>\n",
       "      <td>39.739151</td>\n",
       "      <td>-104.984703</td>\n",
       "      <td>clear</td>\n",
       "    </tr>\n",
       "    <tr>\n",
       "      <th>7990</th>\n",
       "      <td>2017-11-29 22:00:00</td>\n",
       "      <td>15.0</td>\n",
       "      <td>1018.0</td>\n",
       "      <td>61.808</td>\n",
       "      <td>3.0</td>\n",
       "      <td>340.0</td>\n",
       "      <td>39.739151</td>\n",
       "      <td>-104.984703</td>\n",
       "      <td>clear</td>\n",
       "    </tr>\n",
       "    <tr>\n",
       "      <th>7991</th>\n",
       "      <td>2017-11-29 23:00:00</td>\n",
       "      <td>28.0</td>\n",
       "      <td>1020.0</td>\n",
       "      <td>60.836</td>\n",
       "      <td>1.0</td>\n",
       "      <td>10.0</td>\n",
       "      <td>39.739151</td>\n",
       "      <td>-104.984703</td>\n",
       "      <td>foggy</td>\n",
       "    </tr>\n",
       "    <tr>\n",
       "      <th>7992</th>\n",
       "      <td>2017-11-30 00:00:00</td>\n",
       "      <td>31.0</td>\n",
       "      <td>1021.0</td>\n",
       "      <td>53.654</td>\n",
       "      <td>3.0</td>\n",
       "      <td>30.0</td>\n",
       "      <td>39.739151</td>\n",
       "      <td>-104.984703</td>\n",
       "      <td>clear</td>\n",
       "    </tr>\n",
       "  </tbody>\n",
       "</table>\n",
       "<p>7993 rows × 9 columns</p>\n",
       "</div>"
      ],
      "text/plain": [
       "                 datetime  humidity  pressure  temperature  wind_speed  \\\n",
       "0     2017-01-01 00:00:00      36.0    1006.0       37.814         3.0   \n",
       "1     2017-01-01 01:00:00      36.0    1006.0       29.174         2.0   \n",
       "2     2017-01-01 02:00:00      68.0    1008.0       28.418         1.0   \n",
       "3     2017-01-01 03:00:00      79.0    1008.0       26.924         1.0   \n",
       "4     2017-01-01 04:00:00      79.0    1008.0       25.142         1.0   \n",
       "...                   ...       ...       ...          ...         ...   \n",
       "7988  2017-11-29 20:00:00      18.0    1016.0       61.538         3.0   \n",
       "7989  2017-11-29 21:00:00      12.0    1018.0       63.590         6.0   \n",
       "7990  2017-11-29 22:00:00      15.0    1018.0       61.808         3.0   \n",
       "7991  2017-11-29 23:00:00      28.0    1020.0       60.836         1.0   \n",
       "7992  2017-11-30 00:00:00      31.0    1021.0       53.654         3.0   \n",
       "\n",
       "      wind_direction   latitude   longitude weather  \n",
       "0               10.0  39.739151 -104.984703   clear  \n",
       "1              340.0  39.739151 -104.984703  cloudy  \n",
       "2              189.0  39.739151 -104.984703   clear  \n",
       "3              210.0  39.739151 -104.984703   clear  \n",
       "4              189.0  39.739151 -104.984703   clear  \n",
       "...              ...        ...         ...     ...  \n",
       "7988           310.0  39.739151 -104.984703  cloudy  \n",
       "7989           300.0  39.739151 -104.984703   clear  \n",
       "7990           340.0  39.739151 -104.984703   clear  \n",
       "7991            10.0  39.739151 -104.984703   foggy  \n",
       "7992            30.0  39.739151 -104.984703   clear  \n",
       "\n",
       "[7993 rows x 9 columns]"
      ]
     },
     "execution_count": 2,
     "metadata": {},
     "output_type": "execute_result"
    }
   ],
   "source": [
    "# filtering denver data\n",
    "denver_df = df[df['city'] == 'Denver']\n",
    "# dropping city as only denver data is present and resetting the index\n",
    "denver_df = denver_df.drop(columns = ['city']).reset_index(drop=True)\n",
    "denver_df"
   ]
  },
  {
   "cell_type": "code",
   "execution_count": 3,
   "id": "e3029174-5c62-449e-9774-e8d3454e514e",
   "metadata": {},
   "outputs": [],
   "source": [
    "# creating a function to label data based on weather description\n",
    "def weather_labels(description):\n",
    "    if 'clear' in description:\n",
    "        return 'clear'\n",
    "    else:\n",
    "        return 'not clear'"
   ]
  },
  {
   "cell_type": "code",
   "execution_count": 4,
   "id": "8050ce52-aef7-435e-a8e9-b1f9aca3b27c",
   "metadata": {},
   "outputs": [
    {
     "data": {
      "text/plain": [
       "weather\n",
       "clear        4161\n",
       "not clear    3832\n",
       "Name: count, dtype: int64"
      ]
     },
     "execution_count": 4,
     "metadata": {},
     "output_type": "execute_result"
    }
   ],
   "source": [
    "# applying weather_labels function\n",
    "denver_df['weather'] = denver_df['weather'].apply(weather_labels)\n",
    "denver_df.weather.value_counts()"
   ]
  },
  {
   "cell_type": "code",
   "execution_count": 5,
   "id": "44f3a35d-2a6f-48aa-9539-e863491260b3",
   "metadata": {},
   "outputs": [],
   "source": [
    "from sklearn.tree import DecisionTreeClassifier\n",
    "from sklearn import tree\n",
    "import matplotlib.pyplot as plt\n",
    "import graphviz \n",
    "from sklearn.metrics import confusion_matrix"
   ]
  },
  {
   "cell_type": "code",
   "execution_count": 6,
   "id": "01225012-e7a6-4e39-9351-8676fe19cdcf",
   "metadata": {},
   "outputs": [],
   "source": [
    "# instantiating the decision tree with entropy criterion and best splitter\n",
    "MyDT1 = DecisionTreeClassifier(criterion='entropy', \n",
    "                            splitter='best',  \n",
    "                             )\n",
    "\n",
    "# instantiating the decision tree with entropy criterion and random splitter\n",
    "MyDT2 = DecisionTreeClassifier(criterion='entropy', \n",
    "                            splitter='random', \n",
    "                             )\n",
    "\n",
    "# instantiating the decision tree with gini criterion and best splitter\n",
    "MyDT3 = DecisionTreeClassifier(criterion='gini',\n",
    "                            splitter='best',  \n",
    "                             )\n",
    "\n",
    "# instantiating the decision tree with gini criterion and random splitter\n",
    "MyDT4 = DecisionTreeClassifier(criterion='gini', \n",
    "                            splitter='random', \n",
    "                             )"
   ]
  },
  {
   "cell_type": "code",
   "execution_count": 7,
   "id": "97b16a5c-49d7-47cf-a9c1-648089144606",
   "metadata": {},
   "outputs": [
    {
     "data": {
      "text/plain": [
       "datetime           object\n",
       "humidity          float64\n",
       "pressure          float64\n",
       "temperature       float64\n",
       "wind_speed        float64\n",
       "wind_direction    float64\n",
       "latitude          float64\n",
       "longitude         float64\n",
       "weather            object\n",
       "dtype: object"
      ]
     },
     "execution_count": 7,
     "metadata": {},
     "output_type": "execute_result"
    }
   ],
   "source": [
    "# checking data types\n",
    "denver_df.dtypes"
   ]
  },
  {
   "cell_type": "code",
   "execution_count": 8,
   "id": "9148f213-06cd-47f8-9dec-94248cd8fbed",
   "metadata": {},
   "outputs": [
    {
     "data": {
      "text/plain": [
       "datetime            object\n",
       "humidity           float64\n",
       "pressure           float64\n",
       "temperature        float64\n",
       "wind_speed         float64\n",
       "wind_direction     float64\n",
       "latitude           float64\n",
       "longitude          float64\n",
       "weather           category\n",
       "dtype: object"
      ]
     },
     "execution_count": 8,
     "metadata": {},
     "output_type": "execute_result"
    }
   ],
   "source": [
    "# converting weather into category type\n",
    "denver_df['weather'] = denver_df['weather'].astype('category')\n",
    "denver_df.dtypes"
   ]
  },
  {
   "cell_type": "code",
   "execution_count": 9,
   "id": "23a32d75-41c2-4dc2-b0ec-c1752ed734e1",
   "metadata": {},
   "outputs": [],
   "source": [
    "denver_df.to_csv('classificationdata.csv', index=False)"
   ]
  },
  {
   "cell_type": "code",
   "execution_count": 10,
   "id": "bed279ef-249f-4d8b-b916-c9dd16ca8c0f",
   "metadata": {},
   "outputs": [
    {
     "data": {
      "text/html": [
       "<div>\n",
       "<style scoped>\n",
       "    .dataframe tbody tr th:only-of-type {\n",
       "        vertical-align: middle;\n",
       "    }\n",
       "\n",
       "    .dataframe tbody tr th {\n",
       "        vertical-align: top;\n",
       "    }\n",
       "\n",
       "    .dataframe thead th {\n",
       "        text-align: right;\n",
       "    }\n",
       "</style>\n",
       "<table border=\"1\" class=\"dataframe\">\n",
       "  <thead>\n",
       "    <tr style=\"text-align: right;\">\n",
       "      <th></th>\n",
       "      <th>datetime</th>\n",
       "      <th>humidity</th>\n",
       "      <th>pressure</th>\n",
       "      <th>temperature</th>\n",
       "      <th>wind_speed</th>\n",
       "      <th>wind_direction</th>\n",
       "      <th>latitude</th>\n",
       "      <th>longitude</th>\n",
       "      <th>weather</th>\n",
       "    </tr>\n",
       "  </thead>\n",
       "  <tbody>\n",
       "    <tr>\n",
       "      <th>0</th>\n",
       "      <td>2017-01-01 00:00:00</td>\n",
       "      <td>36.0</td>\n",
       "      <td>1006.0</td>\n",
       "      <td>37.814</td>\n",
       "      <td>3.0</td>\n",
       "      <td>10.0</td>\n",
       "      <td>39.739151</td>\n",
       "      <td>-104.984703</td>\n",
       "      <td>clear</td>\n",
       "    </tr>\n",
       "    <tr>\n",
       "      <th>1</th>\n",
       "      <td>2017-01-01 01:00:00</td>\n",
       "      <td>36.0</td>\n",
       "      <td>1006.0</td>\n",
       "      <td>29.174</td>\n",
       "      <td>2.0</td>\n",
       "      <td>340.0</td>\n",
       "      <td>39.739151</td>\n",
       "      <td>-104.984703</td>\n",
       "      <td>not clear</td>\n",
       "    </tr>\n",
       "    <tr>\n",
       "      <th>2</th>\n",
       "      <td>2017-01-01 02:00:00</td>\n",
       "      <td>68.0</td>\n",
       "      <td>1008.0</td>\n",
       "      <td>28.418</td>\n",
       "      <td>1.0</td>\n",
       "      <td>189.0</td>\n",
       "      <td>39.739151</td>\n",
       "      <td>-104.984703</td>\n",
       "      <td>clear</td>\n",
       "    </tr>\n",
       "    <tr>\n",
       "      <th>3</th>\n",
       "      <td>2017-01-01 03:00:00</td>\n",
       "      <td>79.0</td>\n",
       "      <td>1008.0</td>\n",
       "      <td>26.924</td>\n",
       "      <td>1.0</td>\n",
       "      <td>210.0</td>\n",
       "      <td>39.739151</td>\n",
       "      <td>-104.984703</td>\n",
       "      <td>clear</td>\n",
       "    </tr>\n",
       "    <tr>\n",
       "      <th>4</th>\n",
       "      <td>2017-01-01 04:00:00</td>\n",
       "      <td>79.0</td>\n",
       "      <td>1008.0</td>\n",
       "      <td>25.142</td>\n",
       "      <td>1.0</td>\n",
       "      <td>189.0</td>\n",
       "      <td>39.739151</td>\n",
       "      <td>-104.984703</td>\n",
       "      <td>clear</td>\n",
       "    </tr>\n",
       "  </tbody>\n",
       "</table>\n",
       "</div>"
      ],
      "text/plain": [
       "              datetime  humidity  pressure  temperature  wind_speed  \\\n",
       "0  2017-01-01 00:00:00      36.0    1006.0       37.814         3.0   \n",
       "1  2017-01-01 01:00:00      36.0    1006.0       29.174         2.0   \n",
       "2  2017-01-01 02:00:00      68.0    1008.0       28.418         1.0   \n",
       "3  2017-01-01 03:00:00      79.0    1008.0       26.924         1.0   \n",
       "4  2017-01-01 04:00:00      79.0    1008.0       25.142         1.0   \n",
       "\n",
       "   wind_direction   latitude   longitude    weather  \n",
       "0            10.0  39.739151 -104.984703      clear  \n",
       "1           340.0  39.739151 -104.984703  not clear  \n",
       "2           189.0  39.739151 -104.984703      clear  \n",
       "3           210.0  39.739151 -104.984703      clear  \n",
       "4           189.0  39.739151 -104.984703      clear  "
      ]
     },
     "execution_count": 10,
     "metadata": {},
     "output_type": "execute_result"
    }
   ],
   "source": [
    "denver_df.head()"
   ]
  },
  {
   "cell_type": "code",
   "execution_count": 11,
   "id": "53442b55-aaae-48c5-92f2-b6b6b9a6abeb",
   "metadata": {},
   "outputs": [],
   "source": [
    "# In Python - the Decision Trees work ONLY on quantitative data\n",
    "x = denver_df.drop(columns=['datetime', 'latitude', 'longitude', 'weather'])\n",
    "y = denver_df['weather']"
   ]
  },
  {
   "cell_type": "code",
   "execution_count": 12,
   "id": "761c539b-73cb-4081-bad4-f61a6c2db6a5",
   "metadata": {},
   "outputs": [],
   "source": [
    "from sklearn.model_selection import train_test_split\n",
    "# creating disjoint train and test data\n",
    "# using stratified sampling to ensure that each class is represented proportionally in both sets.\n",
    "x_train, x_test, y_train, y_test = train_test_split(x, y, test_size = 0.2, random_state=123)"
   ]
  },
  {
   "cell_type": "code",
   "execution_count": 13,
   "id": "1611a059-e4c1-43e6-830d-3aac527080e7",
   "metadata": {},
   "outputs": [
    {
     "data": {
      "text/plain": [
       "weather\n",
       "clear        3320\n",
       "not clear    3074\n",
       "Name: count, dtype: int64"
      ]
     },
     "execution_count": 13,
     "metadata": {},
     "output_type": "execute_result"
    }
   ],
   "source": [
    "y_train.value_counts()"
   ]
  },
  {
   "cell_type": "code",
   "execution_count": 14,
   "id": "4587e2ac-28eb-437b-b0aa-4f8251d03540",
   "metadata": {},
   "outputs": [
    {
     "data": {
      "text/plain": [
       "weather\n",
       "clear        841\n",
       "not clear    758\n",
       "Name: count, dtype: int64"
      ]
     },
     "execution_count": 14,
     "metadata": {},
     "output_type": "execute_result"
    }
   ],
   "source": [
    "y_test.value_counts()"
   ]
  },
  {
   "cell_type": "code",
   "execution_count": 44,
   "id": "99ae9a56-6922-466d-b1cb-e8746dac9ec1",
   "metadata": {},
   "outputs": [
    {
     "name": "stdout",
     "output_type": "stream",
     "text": [
      "x_train: \n",
      "\n",
      "      humidity  pressure  temperature  wind_speed  wind_direction\n",
      "3336      80.0    1020.0       39.182         5.0            20.0\n",
      "517       73.0    1011.0       28.130         3.0           291.0\n",
      "1385      22.0    1003.0       40.622        10.0           200.0\n",
      "5045      64.0    1027.0       66.362         1.0           201.0\n",
      "1929      75.0    1018.0       43.070         6.0           340.0 \n",
      "\n",
      "y_train: \n",
      "\n",
      "3336    not clear\n",
      "517         clear\n",
      "1385    not clear\n",
      "5045    not clear\n",
      "1929        clear\n",
      "Name: weather, dtype: category\n",
      "Categories (2, object): ['clear', 'not clear'] \n",
      "\n",
      "x_test: \n",
      "\n",
      "      humidity  pressure  temperature  wind_speed  wind_direction\n",
      "3015      30.0    1016.0       65.912         4.0           190.0\n",
      "599       36.0    1015.0       30.398         2.0            60.0\n",
      "415       56.0    1016.0       25.016         2.0           270.0\n",
      "1708      51.0    1022.0       39.992         3.0            30.0\n",
      "3927      29.0    1012.0       60.224         1.0           240.0 \n",
      "\n",
      "y_test: \n",
      "\n",
      "3015    not clear\n",
      "599         clear\n",
      "415         clear\n",
      "1708    not clear\n",
      "3927        clear\n",
      "Name: weather, dtype: category\n",
      "Categories (2, object): ['clear', 'not clear'] \n",
      "\n"
     ]
    }
   ],
   "source": [
    "print('x_train:', '\\n')\n",
    "print(x_train.head(), '\\n')\n",
    "\n",
    "print('y_train:', '\\n')\n",
    "print(y_train.head(), '\\n')\n",
    "\n",
    "print('x_test:', '\\n')\n",
    "print(x_test.head(), '\\n')\n",
    "\n",
    "print('y_test:', '\\n')\n",
    "print(y_test.head(), '\\n')\n"
   ]
  },
  {
   "cell_type": "code",
   "execution_count": 15,
   "id": "332508b5-7b4a-44a2-a724-5871edf736cf",
   "metadata": {},
   "outputs": [],
   "source": [
    "# training the model\n",
    "MyDT1 = MyDT1.fit(x_train, y_train)\n",
    "MyDT2 = MyDT2.fit(x_train, y_train)\n",
    "MyDT3 = MyDT3.fit(x_train, y_train)\n",
    "MyDT4 = MyDT4.fit(x_train, y_train)"
   ]
  },
  {
   "cell_type": "code",
   "execution_count": 16,
   "id": "3fc8ec7a-c280-4e0a-a2d3-3c0cc7e116cb",
   "metadata": {},
   "outputs": [],
   "source": [
    "# predicting the label on test data\n",
    "y1_pred = MyDT1.predict(x_test)\n",
    "y2_pred = MyDT2.predict(x_test)\n",
    "y3_pred = MyDT3.predict(x_test)\n",
    "y4_pred = MyDT4.predict(x_test)"
   ]
  },
  {
   "cell_type": "code",
   "execution_count": 17,
   "id": "4985de5e-746a-4877-9ce5-b2eda3708b04",
   "metadata": {},
   "outputs": [
    {
     "name": "stdout",
     "output_type": "stream",
     "text": [
      "Accuracy (criterion='entropy', splitter='best') = 0.6779237023139462\n",
      "Accuracy (criterion='entropy', splitter='random') = 0.6472795497185742\n",
      "Accuracy (criterion='gini', splitter='best') = 0.6716697936210131\n",
      "Accuracy (criterion='gini', splitter='random') = 0.6497811131957474\n"
     ]
    }
   ],
   "source": [
    "from sklearn.metrics import accuracy_score, classification_report\n",
    "# calculating accuracy\n",
    "accuracy1 = accuracy_score(y_test, y1_pred)\n",
    "accuracy2 = accuracy_score(y_test, y2_pred)\n",
    "accuracy3 = accuracy_score(y_test, y3_pred)\n",
    "accuracy4 = accuracy_score(y_test, y4_pred)\n",
    "\n",
    "print(\"Accuracy (criterion='entropy', splitter='best') =\", accuracy1)\n",
    "print(\"Accuracy (criterion='entropy', splitter='random') =\", accuracy2)\n",
    "print(\"Accuracy (criterion='gini', splitter='best') =\", accuracy3)\n",
    "print(\"Accuracy (criterion='gini', splitter='random') =\", accuracy4)"
   ]
  },
  {
   "cell_type": "code",
   "execution_count": 18,
   "id": "4eccfcf7-783b-4ccf-82b7-8edf1b2731e6",
   "metadata": {},
   "outputs": [
    {
     "data": {
      "text/plain": [
       "'Tree_1.pdf'"
      ]
     },
     "execution_count": 18,
     "metadata": {},
     "output_type": "execute_result"
    }
   ],
   "source": [
    "# generating the tree viz\n",
    "TREE_data = tree.export_graphviz(MyDT1, out_file=None,\n",
    "                  feature_names=x.columns,\n",
    "                  filled=True, \n",
    "                  rounded=True,  \n",
    "                  special_characters=True) \n",
    "                                   \n",
    "graph = graphviz.Source(TREE_data) \n",
    "graph.render(\"Tree_1\") "
   ]
  },
  {
   "cell_type": "code",
   "execution_count": 19,
   "id": "86345dd6-f959-4f79-926c-33ca3450e3e1",
   "metadata": {},
   "outputs": [
    {
     "data": {
      "text/plain": [
       "'Tree_2.pdf'"
      ]
     },
     "execution_count": 19,
     "metadata": {},
     "output_type": "execute_result"
    }
   ],
   "source": [
    "# generating the tree viz\n",
    "TREE_data = tree.export_graphviz(MyDT2, out_file=None,\n",
    "                  feature_names=x.columns,\n",
    "                  filled=True, \n",
    "                  rounded=True,  \n",
    "                  special_characters=True) \n",
    "                                   \n",
    "graph = graphviz.Source(TREE_data) \n",
    "graph.render(\"Tree_2\") "
   ]
  },
  {
   "cell_type": "code",
   "execution_count": 20,
   "id": "5e30dc8f-fbf9-415c-a3b7-343b702cf24c",
   "metadata": {},
   "outputs": [
    {
     "data": {
      "text/plain": [
       "'Tree_3.pdf'"
      ]
     },
     "execution_count": 20,
     "metadata": {},
     "output_type": "execute_result"
    }
   ],
   "source": [
    "# generating the tree viz\n",
    "TREE_data = tree.export_graphviz(MyDT3, out_file=None,\n",
    "                  feature_names=x.columns,\n",
    "                  filled=True, \n",
    "                  rounded=True,  \n",
    "                  special_characters=True) \n",
    "                                   \n",
    "graph = graphviz.Source(TREE_data) \n",
    "graph.render(\"Tree_3\") "
   ]
  },
  {
   "cell_type": "code",
   "execution_count": 21,
   "id": "4c70727a-b378-47ca-9833-2d1a9a72c141",
   "metadata": {},
   "outputs": [
    {
     "data": {
      "text/plain": [
       "'Tree_4.pdf'"
      ]
     },
     "execution_count": 21,
     "metadata": {},
     "output_type": "execute_result"
    }
   ],
   "source": [
    "# generating the tree viz\n",
    "TREE_data = tree.export_graphviz(MyDT4, out_file=None,\n",
    "                  feature_names=x.columns,\n",
    "                  filled=True, \n",
    "                  rounded=True,  \n",
    "                  special_characters=True) \n",
    "                                   \n",
    "graph = graphviz.Source(TREE_data) \n",
    "graph.render(\"Tree_4\") "
   ]
  },
  {
   "cell_type": "code",
   "execution_count": 22,
   "id": "2b3e9d00-eb4a-4d11-98d3-c5b044e0b601",
   "metadata": {},
   "outputs": [],
   "source": [
    "MyDT1_cm = confusion_matrix(y_test, y1_pred)\n",
    "MyDT2_cm = confusion_matrix(y_test, y2_pred)\n",
    "MyDT3_cm = confusion_matrix(y_test, y3_pred)\n",
    "MyDT4_cm = confusion_matrix(y_test, y4_pred)"
   ]
  },
  {
   "cell_type": "code",
   "execution_count": 23,
   "id": "0d74ba8f-d78a-4840-b4a0-26f725b8637b",
   "metadata": {},
   "outputs": [
    {
     "data": {
      "image/png": "[encoded data removed]",
      "text/plain": [
       "<Figure size 640x480 with 1 Axes>"
      ]
     },
     "metadata": {},
     "output_type": "display_data"
    }
   ],
   "source": [
    "import seaborn as sns\n",
    "import numpy as np\n",
    "import matplotlib.pyplot as plt\n",
    "\n",
    "labels = y.unique()\n",
    "\n",
    "# if only first row values are annotated then upgrade your seaborn\n",
    "# pip install seaborn --upgrade\n",
    "sns.heatmap(MyDT1_cm, annot=True, fmt='d', xticklabels=labels, yticklabels=labels, cmap='Blues', cbar=False)\n",
    "plt.title(\"Confusion Matrix\",fontsize=15)\n",
    "plt.xlabel(\"Actual\", fontsize=10)\n",
    "plt.ylabel(\"Predicted\", fontsize=10)\n",
    "plt.show()"
   ]
  },
  {
   "cell_type": "code",
   "execution_count": 24,
   "id": "fa993397-69f6-4ce2-a537-5205d0b34ba0",
   "metadata": {},
   "outputs": [
    {
     "data": {
      "image/png": "[encoded data removed]",
      "text/plain": [
       "<Figure size 640x480 with 1 Axes>"
      ]
     },
     "metadata": {},
     "output_type": "display_data"
    }
   ],
   "source": [
    "sns.heatmap(MyDT2_cm, annot=True, fmt='d', xticklabels=labels, yticklabels=labels, cmap='Blues', cbar=False)\n",
    "plt.title(\"Confusion Matrix\",fontsize=15)\n",
    "plt.xlabel(\"Actual\", fontsize=10)\n",
    "plt.ylabel(\"Predicted\", fontsize=10)\n",
    "plt.show()"
   ]
  },
  {
   "cell_type": "code",
   "execution_count": 25,
   "id": "11c1b366-9f9e-441b-bdb7-24626c9907d6",
   "metadata": {},
   "outputs": [
    {
     "data": {
      "image/png": "[encoded data removed]",
      "text/plain": [
       "<Figure size 640x480 with 1 Axes>"
      ]
     },
     "metadata": {},
     "output_type": "display_data"
    }
   ],
   "source": [
    "sns.heatmap(MyDT3_cm, annot=True, fmt='d', xticklabels=labels, yticklabels=labels, cmap='Blues', cbar=False)\n",
    "plt.title(\"Confusion Matrix\",fontsize=15)\n",
    "plt.xlabel(\"Actual\", fontsize=10)\n",
    "plt.ylabel(\"Predicted\", fontsize=10)\n",
    "plt.show()"
   ]
  },
  {
   "cell_type": "code",
   "execution_count": 26,
   "id": "7d711526-c9f4-435c-842d-f97b437234a4",
   "metadata": {},
   "outputs": [
    {
     "data": {
      "image/png": "[encoded data removed]",
      "text/plain": [
       "<Figure size 640x480 with 1 Axes>"
      ]
     },
     "metadata": {},
     "output_type": "display_data"
    }
   ],
   "source": [
    "sns.heatmap(MyDT4_cm, annot=True, fmt='d', xticklabels=labels, yticklabels=labels, cmap='Blues', cbar=False)\n",
    "plt.title(\"Confusion Matrix\",fontsize=15)\n",
    "plt.xlabel(\"Actual\", fontsize=10)\n",
    "plt.ylabel(\"Predicted\", fontsize=10)\n",
    "plt.show()"
   ]
  },
  {
   "cell_type": "code",
   "execution_count": 27,
   "id": "f01cde7a-de3a-43ec-89d2-19d024da484c",
   "metadata": {},
   "outputs": [],
   "source": [
    "# checking the feature importance for each tree\n",
    "feature_importances1 = MyDT1.feature_importances_\n",
    "feature_importances2 = MyDT2.feature_importances_\n",
    "feature_importances3 = MyDT3.feature_importances_\n",
    "feature_importances4 = MyDT4.feature_importances_"
   ]
  },
  {
   "cell_type": "code",
   "execution_count": 28,
   "id": "8916411c-2384-43bd-a2da-a05baa2a8e3f",
   "metadata": {},
   "outputs": [
    {
     "data": {
      "text/html": [
       "<div>\n",
       "<style scoped>\n",
       "    .dataframe tbody tr th:only-of-type {\n",
       "        vertical-align: middle;\n",
       "    }\n",
       "\n",
       "    .dataframe tbody tr th {\n",
       "        vertical-align: top;\n",
       "    }\n",
       "\n",
       "    .dataframe thead th {\n",
       "        text-align: right;\n",
       "    }\n",
       "</style>\n",
       "<table border=\"1\" class=\"dataframe\">\n",
       "  <thead>\n",
       "    <tr style=\"text-align: right;\">\n",
       "      <th></th>\n",
       "      <th>Feature</th>\n",
       "      <th>Importance</th>\n",
       "    </tr>\n",
       "  </thead>\n",
       "  <tbody>\n",
       "    <tr>\n",
       "      <th>2</th>\n",
       "      <td>temperature</td>\n",
       "      <td>0.279265</td>\n",
       "    </tr>\n",
       "    <tr>\n",
       "      <th>0</th>\n",
       "      <td>humidity</td>\n",
       "      <td>0.239852</td>\n",
       "    </tr>\n",
       "    <tr>\n",
       "      <th>4</th>\n",
       "      <td>wind_direction</td>\n",
       "      <td>0.216191</td>\n",
       "    </tr>\n",
       "    <tr>\n",
       "      <th>1</th>\n",
       "      <td>pressure</td>\n",
       "      <td>0.174562</td>\n",
       "    </tr>\n",
       "    <tr>\n",
       "      <th>3</th>\n",
       "      <td>wind_speed</td>\n",
       "      <td>0.090129</td>\n",
       "    </tr>\n",
       "  </tbody>\n",
       "</table>\n",
       "</div>"
      ],
      "text/plain": [
       "          Feature  Importance\n",
       "2     temperature    0.279265\n",
       "0        humidity    0.239852\n",
       "4  wind_direction    0.216191\n",
       "1        pressure    0.174562\n",
       "3      wind_speed    0.090129"
      ]
     },
     "execution_count": 28,
     "metadata": {},
     "output_type": "execute_result"
    }
   ],
   "source": [
    "feature_names = x.columns\n",
    "# sorting the importance in descending order\n",
    "feature_imp1 = pd.DataFrame({'Feature': feature_names, 'Importance': feature_importances1})\n",
    "feature_imp1 = feature_imp1.sort_values(by='Importance', ascending=False)\n",
    "feature_imp1"
   ]
  },
  {
   "cell_type": "code",
   "execution_count": 29,
   "id": "1173c6b9-8920-41f5-b00c-153041cc6716",
   "metadata": {},
   "outputs": [
    {
     "data": {
      "text/html": [
       "<div>\n",
       "<style scoped>\n",
       "    .dataframe tbody tr th:only-of-type {\n",
       "        vertical-align: middle;\n",
       "    }\n",
       "\n",
       "    .dataframe tbody tr th {\n",
       "        vertical-align: top;\n",
       "    }\n",
       "\n",
       "    .dataframe thead th {\n",
       "        text-align: right;\n",
       "    }\n",
       "</style>\n",
       "<table border=\"1\" class=\"dataframe\">\n",
       "  <thead>\n",
       "    <tr style=\"text-align: right;\">\n",
       "      <th></th>\n",
       "      <th>Feature</th>\n",
       "      <th>Importance</th>\n",
       "    </tr>\n",
       "  </thead>\n",
       "  <tbody>\n",
       "    <tr>\n",
       "      <th>0</th>\n",
       "      <td>humidity</td>\n",
       "      <td>0.253229</td>\n",
       "    </tr>\n",
       "    <tr>\n",
       "      <th>4</th>\n",
       "      <td>wind_direction</td>\n",
       "      <td>0.239320</td>\n",
       "    </tr>\n",
       "    <tr>\n",
       "      <th>2</th>\n",
       "      <td>temperature</td>\n",
       "      <td>0.201817</td>\n",
       "    </tr>\n",
       "    <tr>\n",
       "      <th>1</th>\n",
       "      <td>pressure</td>\n",
       "      <td>0.193495</td>\n",
       "    </tr>\n",
       "    <tr>\n",
       "      <th>3</th>\n",
       "      <td>wind_speed</td>\n",
       "      <td>0.112139</td>\n",
       "    </tr>\n",
       "  </tbody>\n",
       "</table>\n",
       "</div>"
      ],
      "text/plain": [
       "          Feature  Importance\n",
       "0        humidity    0.253229\n",
       "4  wind_direction    0.239320\n",
       "2     temperature    0.201817\n",
       "1        pressure    0.193495\n",
       "3      wind_speed    0.112139"
      ]
     },
     "execution_count": 29,
     "metadata": {},
     "output_type": "execute_result"
    }
   ],
   "source": [
    "# sorting the importance in descending order\n",
    "feature_imp2 = pd.DataFrame({'Feature': feature_names, 'Importance': feature_importances2})\n",
    "feature_imp2 = feature_imp2.sort_values(by='Importance', ascending=False)\n",
    "feature_imp2"
   ]
  },
  {
   "cell_type": "code",
   "execution_count": 30,
   "id": "7edf33ec-779c-4a71-9eed-8a2f6dfbba09",
   "metadata": {},
   "outputs": [
    {
     "data": {
      "text/html": [
       "<div>\n",
       "<style scoped>\n",
       "    .dataframe tbody tr th:only-of-type {\n",
       "        vertical-align: middle;\n",
       "    }\n",
       "\n",
       "    .dataframe tbody tr th {\n",
       "        vertical-align: top;\n",
       "    }\n",
       "\n",
       "    .dataframe thead th {\n",
       "        text-align: right;\n",
       "    }\n",
       "</style>\n",
       "<table border=\"1\" class=\"dataframe\">\n",
       "  <thead>\n",
       "    <tr style=\"text-align: right;\">\n",
       "      <th></th>\n",
       "      <th>Feature</th>\n",
       "      <th>Importance</th>\n",
       "    </tr>\n",
       "  </thead>\n",
       "  <tbody>\n",
       "    <tr>\n",
       "      <th>2</th>\n",
       "      <td>temperature</td>\n",
       "      <td>0.268017</td>\n",
       "    </tr>\n",
       "    <tr>\n",
       "      <th>0</th>\n",
       "      <td>humidity</td>\n",
       "      <td>0.262983</td>\n",
       "    </tr>\n",
       "    <tr>\n",
       "      <th>4</th>\n",
       "      <td>wind_direction</td>\n",
       "      <td>0.215708</td>\n",
       "    </tr>\n",
       "    <tr>\n",
       "      <th>1</th>\n",
       "      <td>pressure</td>\n",
       "      <td>0.165605</td>\n",
       "    </tr>\n",
       "    <tr>\n",
       "      <th>3</th>\n",
       "      <td>wind_speed</td>\n",
       "      <td>0.087687</td>\n",
       "    </tr>\n",
       "  </tbody>\n",
       "</table>\n",
       "</div>"
      ],
      "text/plain": [
       "          Feature  Importance\n",
       "2     temperature    0.268017\n",
       "0        humidity    0.262983\n",
       "4  wind_direction    0.215708\n",
       "1        pressure    0.165605\n",
       "3      wind_speed    0.087687"
      ]
     },
     "execution_count": 30,
     "metadata": {},
     "output_type": "execute_result"
    }
   ],
   "source": [
    "# sorting the importance in descending order\n",
    "feature_imp3 = pd.DataFrame({'Feature': feature_names, 'Importance': feature_importances3})\n",
    "feature_imp3 = feature_imp3.sort_values(by='Importance', ascending=False)\n",
    "feature_imp3"
   ]
  },
  {
   "cell_type": "code",
   "execution_count": 31,
   "id": "88961a21-3fb5-4d44-88ef-a4bb20853af9",
   "metadata": {},
   "outputs": [
    {
     "data": {
      "text/html": [
       "<div>\n",
       "<style scoped>\n",
       "    .dataframe tbody tr th:only-of-type {\n",
       "        vertical-align: middle;\n",
       "    }\n",
       "\n",
       "    .dataframe tbody tr th {\n",
       "        vertical-align: top;\n",
       "    }\n",
       "\n",
       "    .dataframe thead th {\n",
       "        text-align: right;\n",
       "    }\n",
       "</style>\n",
       "<table border=\"1\" class=\"dataframe\">\n",
       "  <thead>\n",
       "    <tr style=\"text-align: right;\">\n",
       "      <th></th>\n",
       "      <th>Feature</th>\n",
       "      <th>Importance</th>\n",
       "    </tr>\n",
       "  </thead>\n",
       "  <tbody>\n",
       "    <tr>\n",
       "      <th>0</th>\n",
       "      <td>humidity</td>\n",
       "      <td>0.271406</td>\n",
       "    </tr>\n",
       "    <tr>\n",
       "      <th>4</th>\n",
       "      <td>wind_direction</td>\n",
       "      <td>0.225760</td>\n",
       "    </tr>\n",
       "    <tr>\n",
       "      <th>2</th>\n",
       "      <td>temperature</td>\n",
       "      <td>0.213350</td>\n",
       "    </tr>\n",
       "    <tr>\n",
       "      <th>1</th>\n",
       "      <td>pressure</td>\n",
       "      <td>0.180622</td>\n",
       "    </tr>\n",
       "    <tr>\n",
       "      <th>3</th>\n",
       "      <td>wind_speed</td>\n",
       "      <td>0.108863</td>\n",
       "    </tr>\n",
       "  </tbody>\n",
       "</table>\n",
       "</div>"
      ],
      "text/plain": [
       "          Feature  Importance\n",
       "0        humidity    0.271406\n",
       "4  wind_direction    0.225760\n",
       "2     temperature    0.213350\n",
       "1        pressure    0.180622\n",
       "3      wind_speed    0.108863"
      ]
     },
     "execution_count": 31,
     "metadata": {},
     "output_type": "execute_result"
    }
   ],
   "source": [
    "# sorting the importance in descending order\n",
    "feature_imp4 = pd.DataFrame({'Feature': feature_names, 'Importance': feature_importances4})\n",
    "feature_imp4 = feature_imp4.sort_values(by='Importance', ascending=False)\n",
    "feature_imp4"
   ]
  },
  {
   "cell_type": "code",
   "execution_count": null,
   "id": "bbcc4454-c19c-4ea9-b014-d3fa457f029f",
   "metadata": {},
   "outputs": [],
   "source": []
  },
  {
   "cell_type": "code",
   "execution_count": null,
   "id": "5ff86910-6399-4834-a5c6-8b4e124c9fd9",
   "metadata": {},
   "outputs": [],
   "source": []
  },
  {
   "cell_type": "code",
   "execution_count": null,
   "id": "e5d7f0ef-88f5-4d80-800d-870922015ae9",
   "metadata": {},
   "outputs": [],
   "source": []
  }
 ],
 "metadata": {
  "kernelspec": {
   "display_name": "Python 3 (ipykernel)",
   "language": "python",
   "name": "python3"
  },
  "language_info": {
   "codemirror_mode": {
    "name": "ipython",
    "version": 3
   },
   "file_extension": ".py",
   "mimetype": "text/x-python",
   "name": "python",
   "nbconvert_exporter": "python",
   "pygments_lexer": "ipython3",
   "version": "3.11.7"
  }
 },
 "nbformat": 4,
 "nbformat_minor": 5
}
