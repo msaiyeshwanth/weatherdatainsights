{
 "cells": [
  {
   "cell_type": "code",
   "execution_count": 1,
   "id": "35981dcc-a311-4768-944a-b3e77583d215",
   "metadata": {},
   "outputs": [
    {
     "data": {
      "text/html": [
       "<div>\n",
       "<style scoped>\n",
       "    .dataframe tbody tr th:only-of-type {\n",
       "        vertical-align: middle;\n",
       "    }\n",
       "\n",
       "    .dataframe tbody tr th {\n",
       "        vertical-align: top;\n",
       "    }\n",
       "\n",
       "    .dataframe thead th {\n",
       "        text-align: right;\n",
       "    }\n",
       "</style>\n",
       "<table border=\"1\" class=\"dataframe\">\n",
       "  <thead>\n",
       "    <tr style=\"text-align: right;\">\n",
       "      <th></th>\n",
       "      <th>datetime</th>\n",
       "      <th>city</th>\n",
       "      <th>humidity</th>\n",
       "      <th>pressure</th>\n",
       "      <th>temperature</th>\n",
       "      <th>wind_speed</th>\n",
       "      <th>wind_direction</th>\n",
       "      <th>latitude</th>\n",
       "      <th>longitude</th>\n",
       "      <th>weather</th>\n",
       "    </tr>\n",
       "  </thead>\n",
       "  <tbody>\n",
       "    <tr>\n",
       "      <th>0</th>\n",
       "      <td>2017-01-01 00:00:00</td>\n",
       "      <td>Portland</td>\n",
       "      <td>96.0</td>\n",
       "      <td>1017.0</td>\n",
       "      <td>35.582</td>\n",
       "      <td>3.0</td>\n",
       "      <td>160.0</td>\n",
       "      <td>45.523449</td>\n",
       "      <td>-122.676208</td>\n",
       "      <td>foggy</td>\n",
       "    </tr>\n",
       "    <tr>\n",
       "      <th>1</th>\n",
       "      <td>2017-01-01 01:00:00</td>\n",
       "      <td>Portland</td>\n",
       "      <td>96.0</td>\n",
       "      <td>1016.0</td>\n",
       "      <td>35.852</td>\n",
       "      <td>2.0</td>\n",
       "      <td>200.0</td>\n",
       "      <td>45.523449</td>\n",
       "      <td>-122.676208</td>\n",
       "      <td>rainy</td>\n",
       "    </tr>\n",
       "    <tr>\n",
       "      <th>2</th>\n",
       "      <td>2017-01-01 02:00:00</td>\n",
       "      <td>Portland</td>\n",
       "      <td>99.0</td>\n",
       "      <td>1015.0</td>\n",
       "      <td>35.600</td>\n",
       "      <td>3.0</td>\n",
       "      <td>221.0</td>\n",
       "      <td>45.523449</td>\n",
       "      <td>-122.676208</td>\n",
       "      <td>foggy</td>\n",
       "    </tr>\n",
       "    <tr>\n",
       "      <th>3</th>\n",
       "      <td>2017-01-01 03:00:00</td>\n",
       "      <td>Portland</td>\n",
       "      <td>99.0</td>\n",
       "      <td>1014.0</td>\n",
       "      <td>35.312</td>\n",
       "      <td>2.0</td>\n",
       "      <td>170.0</td>\n",
       "      <td>45.523449</td>\n",
       "      <td>-122.676208</td>\n",
       "      <td>rainy</td>\n",
       "    </tr>\n",
       "    <tr>\n",
       "      <th>4</th>\n",
       "      <td>2017-01-01 04:00:00</td>\n",
       "      <td>Portland</td>\n",
       "      <td>99.0</td>\n",
       "      <td>1013.0</td>\n",
       "      <td>34.826</td>\n",
       "      <td>1.0</td>\n",
       "      <td>210.0</td>\n",
       "      <td>45.523449</td>\n",
       "      <td>-122.676208</td>\n",
       "      <td>rainy</td>\n",
       "    </tr>\n",
       "  </tbody>\n",
       "</table>\n",
       "</div>"
      ],
      "text/plain": [
       "              datetime      city  humidity  pressure  temperature  wind_speed  \\\n",
       "0  2017-01-01 00:00:00  Portland      96.0    1017.0       35.582         3.0   \n",
       "1  2017-01-01 01:00:00  Portland      96.0    1016.0       35.852         2.0   \n",
       "2  2017-01-01 02:00:00  Portland      99.0    1015.0       35.600         3.0   \n",
       "3  2017-01-01 03:00:00  Portland      99.0    1014.0       35.312         2.0   \n",
       "4  2017-01-01 04:00:00  Portland      99.0    1013.0       34.826         1.0   \n",
       "\n",
       "   wind_direction   latitude   longitude weather  \n",
       "0           160.0  45.523449 -122.676208   foggy  \n",
       "1           200.0  45.523449 -122.676208   rainy  \n",
       "2           221.0  45.523449 -122.676208   foggy  \n",
       "3           170.0  45.523449 -122.676208   rainy  \n",
       "4           210.0  45.523449 -122.676208   rainy  "
      ]
     },
     "execution_count": 1,
     "metadata": {},
     "output_type": "execute_result"
    }
   ],
   "source": [
    "# loading cleaned weather dataset\n",
    "import pandas as pd\n",
    "import numpy as np\n",
    "df = pd.read_csv('cleaned_data.csv')\n",
    "df.head()"
   ]
  },
  {
   "cell_type": "code",
   "execution_count": 2,
   "id": "3811c915-8dac-4cbf-9eab-62659c2637b3",
   "metadata": {},
   "outputs": [
    {
     "data": {
      "text/html": [
       "<div>\n",
       "<style scoped>\n",
       "    .dataframe tbody tr th:only-of-type {\n",
       "        vertical-align: middle;\n",
       "    }\n",
       "\n",
       "    .dataframe tbody tr th {\n",
       "        vertical-align: top;\n",
       "    }\n",
       "\n",
       "    .dataframe thead th {\n",
       "        text-align: right;\n",
       "    }\n",
       "</style>\n",
       "<table border=\"1\" class=\"dataframe\">\n",
       "  <thead>\n",
       "    <tr style=\"text-align: right;\">\n",
       "      <th></th>\n",
       "      <th>datetime</th>\n",
       "      <th>humidity</th>\n",
       "      <th>pressure</th>\n",
       "      <th>temperature</th>\n",
       "      <th>wind_speed</th>\n",
       "      <th>wind_direction</th>\n",
       "      <th>latitude</th>\n",
       "      <th>longitude</th>\n",
       "      <th>weather</th>\n",
       "    </tr>\n",
       "  </thead>\n",
       "  <tbody>\n",
       "    <tr>\n",
       "      <th>0</th>\n",
       "      <td>2017-01-01 00:00:00</td>\n",
       "      <td>36.0</td>\n",
       "      <td>1006.0</td>\n",
       "      <td>37.814</td>\n",
       "      <td>3.0</td>\n",
       "      <td>10.0</td>\n",
       "      <td>39.739151</td>\n",
       "      <td>-104.984703</td>\n",
       "      <td>clear</td>\n",
       "    </tr>\n",
       "    <tr>\n",
       "      <th>1</th>\n",
       "      <td>2017-01-01 01:00:00</td>\n",
       "      <td>36.0</td>\n",
       "      <td>1006.0</td>\n",
       "      <td>29.174</td>\n",
       "      <td>2.0</td>\n",
       "      <td>340.0</td>\n",
       "      <td>39.739151</td>\n",
       "      <td>-104.984703</td>\n",
       "      <td>cloudy</td>\n",
       "    </tr>\n",
       "    <tr>\n",
       "      <th>2</th>\n",
       "      <td>2017-01-01 02:00:00</td>\n",
       "      <td>68.0</td>\n",
       "      <td>1008.0</td>\n",
       "      <td>28.418</td>\n",
       "      <td>1.0</td>\n",
       "      <td>189.0</td>\n",
       "      <td>39.739151</td>\n",
       "      <td>-104.984703</td>\n",
       "      <td>clear</td>\n",
       "    </tr>\n",
       "    <tr>\n",
       "      <th>3</th>\n",
       "      <td>2017-01-01 03:00:00</td>\n",
       "      <td>79.0</td>\n",
       "      <td>1008.0</td>\n",
       "      <td>26.924</td>\n",
       "      <td>1.0</td>\n",
       "      <td>210.0</td>\n",
       "      <td>39.739151</td>\n",
       "      <td>-104.984703</td>\n",
       "      <td>clear</td>\n",
       "    </tr>\n",
       "    <tr>\n",
       "      <th>4</th>\n",
       "      <td>2017-01-01 04:00:00</td>\n",
       "      <td>79.0</td>\n",
       "      <td>1008.0</td>\n",
       "      <td>25.142</td>\n",
       "      <td>1.0</td>\n",
       "      <td>189.0</td>\n",
       "      <td>39.739151</td>\n",
       "      <td>-104.984703</td>\n",
       "      <td>clear</td>\n",
       "    </tr>\n",
       "    <tr>\n",
       "      <th>...</th>\n",
       "      <td>...</td>\n",
       "      <td>...</td>\n",
       "      <td>...</td>\n",
       "      <td>...</td>\n",
       "      <td>...</td>\n",
       "      <td>...</td>\n",
       "      <td>...</td>\n",
       "      <td>...</td>\n",
       "      <td>...</td>\n",
       "    </tr>\n",
       "    <tr>\n",
       "      <th>7988</th>\n",
       "      <td>2017-11-29 20:00:00</td>\n",
       "      <td>18.0</td>\n",
       "      <td>1016.0</td>\n",
       "      <td>61.538</td>\n",
       "      <td>3.0</td>\n",
       "      <td>310.0</td>\n",
       "      <td>39.739151</td>\n",
       "      <td>-104.984703</td>\n",
       "      <td>cloudy</td>\n",
       "    </tr>\n",
       "    <tr>\n",
       "      <th>7989</th>\n",
       "      <td>2017-11-29 21:00:00</td>\n",
       "      <td>12.0</td>\n",
       "      <td>1018.0</td>\n",
       "      <td>63.590</td>\n",
       "      <td>6.0</td>\n",
       "      <td>300.0</td>\n",
       "      <td>39.739151</td>\n",
       "      <td>-104.984703</td>\n",
       "      <td>clear</td>\n",
       "    </tr>\n",
       "    <tr>\n",
       "      <th>7990</th>\n",
       "      <td>2017-11-29 22:00:00</td>\n",
       "      <td>15.0</td>\n",
       "      <td>1018.0</td>\n",
       "      <td>61.808</td>\n",
       "      <td>3.0</td>\n",
       "      <td>340.0</td>\n",
       "      <td>39.739151</td>\n",
       "      <td>-104.984703</td>\n",
       "      <td>clear</td>\n",
       "    </tr>\n",
       "    <tr>\n",
       "      <th>7991</th>\n",
       "      <td>2017-11-29 23:00:00</td>\n",
       "      <td>28.0</td>\n",
       "      <td>1020.0</td>\n",
       "      <td>60.836</td>\n",
       "      <td>1.0</td>\n",
       "      <td>10.0</td>\n",
       "      <td>39.739151</td>\n",
       "      <td>-104.984703</td>\n",
       "      <td>foggy</td>\n",
       "    </tr>\n",
       "    <tr>\n",
       "      <th>7992</th>\n",
       "      <td>2017-11-30 00:00:00</td>\n",
       "      <td>31.0</td>\n",
       "      <td>1021.0</td>\n",
       "      <td>53.654</td>\n",
       "      <td>3.0</td>\n",
       "      <td>30.0</td>\n",
       "      <td>39.739151</td>\n",
       "      <td>-104.984703</td>\n",
       "      <td>clear</td>\n",
       "    </tr>\n",
       "  </tbody>\n",
       "</table>\n",
       "<p>7993 rows × 9 columns</p>\n",
       "</div>"
      ],
      "text/plain": [
       "                 datetime  humidity  pressure  temperature  wind_speed  \\\n",
       "0     2017-01-01 00:00:00      36.0    1006.0       37.814         3.0   \n",
       "1     2017-01-01 01:00:00      36.0    1006.0       29.174         2.0   \n",
       "2     2017-01-01 02:00:00      68.0    1008.0       28.418         1.0   \n",
       "3     2017-01-01 03:00:00      79.0    1008.0       26.924         1.0   \n",
       "4     2017-01-01 04:00:00      79.0    1008.0       25.142         1.0   \n",
       "...                   ...       ...       ...          ...         ...   \n",
       "7988  2017-11-29 20:00:00      18.0    1016.0       61.538         3.0   \n",
       "7989  2017-11-29 21:00:00      12.0    1018.0       63.590         6.0   \n",
       "7990  2017-11-29 22:00:00      15.0    1018.0       61.808         3.0   \n",
       "7991  2017-11-29 23:00:00      28.0    1020.0       60.836         1.0   \n",
       "7992  2017-11-30 00:00:00      31.0    1021.0       53.654         3.0   \n",
       "\n",
       "      wind_direction   latitude   longitude weather  \n",
       "0               10.0  39.739151 -104.984703   clear  \n",
       "1              340.0  39.739151 -104.984703  cloudy  \n",
       "2              189.0  39.739151 -104.984703   clear  \n",
       "3              210.0  39.739151 -104.984703   clear  \n",
       "4              189.0  39.739151 -104.984703   clear  \n",
       "...              ...        ...         ...     ...  \n",
       "7988           310.0  39.739151 -104.984703  cloudy  \n",
       "7989           300.0  39.739151 -104.984703   clear  \n",
       "7990           340.0  39.739151 -104.984703   clear  \n",
       "7991            10.0  39.739151 -104.984703   foggy  \n",
       "7992            30.0  39.739151 -104.984703   clear  \n",
       "\n",
       "[7993 rows x 9 columns]"
      ]
     },
     "execution_count": 2,
     "metadata": {},
     "output_type": "execute_result"
    }
   ],
   "source": [
    "# filtering denver data\n",
    "denver_df = df[df['city'] == 'Denver']\n",
    "# dropping city as only denver data is present and resetting the index\n",
    "denver_df = denver_df.drop(columns = ['city']).reset_index(drop=True)\n",
    "denver_df"
   ]
  },
  {
   "cell_type": "code",
   "execution_count": 3,
   "id": "4fcda9a5-2307-4429-a6ab-477fbd555004",
   "metadata": {},
   "outputs": [],
   "source": [
    "# creating a function to label data based on weather description\n",
    "def weather_labels(description):\n",
    "    if 'clear' in description:\n",
    "        return 'clear'\n",
    "    else:\n",
    "        return 'not clear'"
   ]
  },
  {
   "cell_type": "code",
   "execution_count": 4,
   "id": "1940ff7c-32fb-4825-b655-ad62b89207a2",
   "metadata": {},
   "outputs": [
    {
     "data": {
      "text/plain": [
       "weather\n",
       "clear        4161\n",
       "not clear    3832\n",
       "Name: count, dtype: int64"
      ]
     },
     "execution_count": 4,
     "metadata": {},
     "output_type": "execute_result"
    }
   ],
   "source": [
    "# applying weather_labels function\n",
    "denver_df['weather'] = denver_df['weather'].apply(weather_labels)\n",
    "denver_df.weather.value_counts()"
   ]
  },
  {
   "cell_type": "code",
   "execution_count": 5,
   "id": "554a26be-727f-4194-8f11-25e8a7dbf0d0",
   "metadata": {},
   "outputs": [],
   "source": [
    "# In Python - the NN work ONLY on quantitative data\n",
    "x = denver_df.drop(columns=['datetime', 'latitude', 'longitude', 'weather'])\n",
    "y = denver_df['weather']"
   ]
  },
  {
   "cell_type": "code",
   "execution_count": 6,
   "id": "778cffd1-d809-4ea1-aeb2-b7ffd5c4bba7",
   "metadata": {},
   "outputs": [],
   "source": [
    "import matplotlib.pyplot as plt\n",
    "import graphviz \n",
    "from sklearn.metrics import confusion_matrix"
   ]
  },
  {
   "cell_type": "code",
   "execution_count": 7,
   "id": "0f60c1f1-07b4-4cd3-a932-4f189a0cd889",
   "metadata": {},
   "outputs": [],
   "source": [
    "from sklearn.model_selection import train_test_split\n",
    "# creating disjoint train and test data\n",
    "# using stratified sampling to ensure that each class is represented proportionally in both sets.\n",
    "x_train, x_test, y_train, y_test = train_test_split(x, y, test_size = 0.2, random_state=123)"
   ]
  },
  {
   "cell_type": "code",
   "execution_count": 8,
   "id": "b15ba0f4-3a37-4108-b852-9f82722dd0e7",
   "metadata": {},
   "outputs": [
    {
     "data": {
      "text/plain": [
       "weather\n",
       "clear        3320\n",
       "not clear    3074\n",
       "Name: count, dtype: int64"
      ]
     },
     "execution_count": 8,
     "metadata": {},
     "output_type": "execute_result"
    }
   ],
   "source": [
    "y_train.value_counts()"
   ]
  },
  {
   "cell_type": "code",
   "execution_count": 9,
   "id": "71606689-b8a4-4ec2-988a-073704a720cf",
   "metadata": {},
   "outputs": [
    {
     "data": {
      "text/plain": [
       "weather\n",
       "clear        841\n",
       "not clear    758\n",
       "Name: count, dtype: int64"
      ]
     },
     "execution_count": 9,
     "metadata": {},
     "output_type": "execute_result"
    }
   ],
   "source": [
    "y_test.value_counts()"
   ]
  },
  {
   "cell_type": "code",
   "execution_count": 10,
   "id": "fbba110d-fa55-4a7a-81bd-f589f6f6c705",
   "metadata": {},
   "outputs": [
    {
     "data": {
      "text/plain": [
       "humidity          float64\n",
       "pressure          float64\n",
       "temperature       float64\n",
       "wind_speed        float64\n",
       "wind_direction    float64\n",
       "dtype: object"
      ]
     },
     "execution_count": 10,
     "metadata": {},
     "output_type": "execute_result"
    }
   ],
   "source": [
    "x_train.dtypes"
   ]
  },
  {
   "cell_type": "code",
   "execution_count": 11,
   "id": "290e2c7d-a415-4a51-b64c-edad15c9e292",
   "metadata": {},
   "outputs": [
    {
     "data": {
      "text/plain": [
       "3336    not clear\n",
       "517         clear\n",
       "1385    not clear\n",
       "5045    not clear\n",
       "1929        clear\n",
       "          ...    \n",
       "4060        clear\n",
       "1346        clear\n",
       "3454        clear\n",
       "7533    not clear\n",
       "3582        clear\n",
       "Name: weather, Length: 6394, dtype: object"
      ]
     },
     "execution_count": 11,
     "metadata": {},
     "output_type": "execute_result"
    }
   ],
   "source": [
    "y_train\n"
   ]
  },
  {
   "cell_type": "code",
   "execution_count": 12,
   "id": "cb17f6b3-df0d-4840-8052-70726dbb5985",
   "metadata": {},
   "outputs": [
    {
     "data": {
      "text/plain": [
       "3015    not clear\n",
       "599         clear\n",
       "415         clear\n",
       "1708    not clear\n",
       "3927        clear\n",
       "          ...    \n",
       "5925    not clear\n",
       "7432    not clear\n",
       "7499    not clear\n",
       "315         clear\n",
       "7677        clear\n",
       "Name: weather, Length: 1599, dtype: object"
      ]
     },
     "execution_count": 12,
     "metadata": {},
     "output_type": "execute_result"
    }
   ],
   "source": [
    "y_test"
   ]
  },
  {
   "cell_type": "code",
   "execution_count": 71,
   "id": "4c129c02-6006-4edd-aa20-2e3c38e9d8ed",
   "metadata": {},
   "outputs": [
    {
     "name": "stdout",
     "output_type": "stream",
     "text": [
      "[1 0 1 ... 0 1 0]\n",
      "[1 0 0 ... 1 0 0]\n"
     ]
    }
   ],
   "source": [
    "from sklearn.preprocessing import LabelEncoder\n",
    "\n",
    "# Initializing the label encoder\n",
    "label_encoder = LabelEncoder()\n",
    "\n",
    "# Encoding the string labels into numerical format\n",
    "y_train = label_encoder.fit_transform(y_train)\n",
    "y_test = label_encoder.transform(y_test)\n",
    "\n",
    "print(y_train)\n",
    "print(y_test)"
   ]
  },
  {
   "cell_type": "code",
   "execution_count": 67,
   "id": "0bb37863-2771-42f2-8e48-dfbc66f80ef7",
   "metadata": {},
   "outputs": [
    {
     "name": "stderr",
     "output_type": "stream",
     "text": [
      "/Users/yeshwanth/anaconda3/lib/python3.11/site-packages/keras/src/layers/core/dense.py:87: UserWarning: Do not pass an `input_shape`/`input_dim` argument to a layer. When using Sequential models, prefer using an `Input(shape)` object as the first layer in the model instead.\n",
      "  super().__init__(activity_regularizer=activity_regularizer, **kwargs)\n"
     ]
    },
    {
     "data": {
      "text/html": [
       "<pre style=\"white-space:pre;overflow-x:auto;line-height:normal;font-family:Menlo,'DejaVu Sans Mono',consolas,'Courier New',monospace\"><span style=\"font-weight: bold\">Model: \"sequential_12\"</span>\n",
       "</pre>\n"
      ],
      "text/plain": [
       "\u001b[1mModel: \"sequential_12\"\u001b[0m\n"
      ]
     },
     "metadata": {},
     "output_type": "display_data"
    },
    {
     "data": {
      "text/html": [
       "<pre style=\"white-space:pre;overflow-x:auto;line-height:normal;font-family:Menlo,'DejaVu Sans Mono',consolas,'Courier New',monospace\">┏━━━━━━━━━━━━━━━━━━━━━━━━━━━━━━━━━┳━━━━━━━━━━━━━━━━━━━━━━━━┳━━━━━━━━━━━━━━━┓\n",
       "┃<span style=\"font-weight: bold\"> Layer (type)                    </span>┃<span style=\"font-weight: bold\"> Output Shape           </span>┃<span style=\"font-weight: bold\">       Param # </span>┃\n",
       "┡━━━━━━━━━━━━━━━━━━━━━━━━━━━━━━━━━╇━━━━━━━━━━━━━━━━━━━━━━━━╇━━━━━━━━━━━━━━━┩\n",
       "│ dense_24 (<span style=\"color: #0087ff; text-decoration-color: #0087ff\">Dense</span>)                │ (<span style=\"color: #00d7ff; text-decoration-color: #00d7ff\">None</span>, <span style=\"color: #00af00; text-decoration-color: #00af00\">3</span>)              │            <span style=\"color: #00af00; text-decoration-color: #00af00\">18</span> │\n",
       "├─────────────────────────────────┼────────────────────────┼───────────────┤\n",
       "│ dense_25 (<span style=\"color: #0087ff; text-decoration-color: #0087ff\">Dense</span>)                │ (<span style=\"color: #00d7ff; text-decoration-color: #00d7ff\">None</span>, <span style=\"color: #00af00; text-decoration-color: #00af00\">1</span>)              │             <span style=\"color: #00af00; text-decoration-color: #00af00\">4</span> │\n",
       "└─────────────────────────────────┴────────────────────────┴───────────────┘\n",
       "</pre>\n"
      ],
      "text/plain": [
       "┏━━━━━━━━━━━━━━━━━━━━━━━━━━━━━━━━━┳━━━━━━━━━━━━━━━━━━━━━━━━┳━━━━━━━━━━━━━━━┓\n",
       "┃\u001b[1m \u001b[0m\u001b[1mLayer (type)                   \u001b[0m\u001b[1m \u001b[0m┃\u001b[1m \u001b[0m\u001b[1mOutput Shape          \u001b[0m\u001b[1m \u001b[0m┃\u001b[1m \u001b[0m\u001b[1m      Param #\u001b[0m\u001b[1m \u001b[0m┃\n",
       "┡━━━━━━━━━━━━━━━━━━━━━━━━━━━━━━━━━╇━━━━━━━━━━━━━━━━━━━━━━━━╇━━━━━━━━━━━━━━━┩\n",
       "│ dense_24 (\u001b[38;5;33mDense\u001b[0m)                │ (\u001b[38;5;45mNone\u001b[0m, \u001b[38;5;34m3\u001b[0m)              │            \u001b[38;5;34m18\u001b[0m │\n",
       "├─────────────────────────────────┼────────────────────────┼───────────────┤\n",
       "│ dense_25 (\u001b[38;5;33mDense\u001b[0m)                │ (\u001b[38;5;45mNone\u001b[0m, \u001b[38;5;34m1\u001b[0m)              │             \u001b[38;5;34m4\u001b[0m │\n",
       "└─────────────────────────────────┴────────────────────────┴───────────────┘\n"
      ]
     },
     "metadata": {},
     "output_type": "display_data"
    },
    {
     "data": {
      "text/html": [
       "<pre style=\"white-space:pre;overflow-x:auto;line-height:normal;font-family:Menlo,'DejaVu Sans Mono',consolas,'Courier New',monospace\"><span style=\"font-weight: bold\"> Total params: </span><span style=\"color: #00af00; text-decoration-color: #00af00\">22</span> (88.00 B)\n",
       "</pre>\n"
      ],
      "text/plain": [
       "\u001b[1m Total params: \u001b[0m\u001b[38;5;34m22\u001b[0m (88.00 B)\n"
      ]
     },
     "metadata": {},
     "output_type": "display_data"
    },
    {
     "data": {
      "text/html": [
       "<pre style=\"white-space:pre;overflow-x:auto;line-height:normal;font-family:Menlo,'DejaVu Sans Mono',consolas,'Courier New',monospace\"><span style=\"font-weight: bold\"> Trainable params: </span><span style=\"color: #00af00; text-decoration-color: #00af00\">22</span> (88.00 B)\n",
       "</pre>\n"
      ],
      "text/plain": [
       "\u001b[1m Trainable params: \u001b[0m\u001b[38;5;34m22\u001b[0m (88.00 B)\n"
      ]
     },
     "metadata": {},
     "output_type": "display_data"
    },
    {
     "data": {
      "text/html": [
       "<pre style=\"white-space:pre;overflow-x:auto;line-height:normal;font-family:Menlo,'DejaVu Sans Mono',consolas,'Courier New',monospace\"><span style=\"font-weight: bold\"> Non-trainable params: </span><span style=\"color: #00af00; text-decoration-color: #00af00\">0</span> (0.00 B)\n",
       "</pre>\n"
      ],
      "text/plain": [
       "\u001b[1m Non-trainable params: \u001b[0m\u001b[38;5;34m0\u001b[0m (0.00 B)\n"
      ]
     },
     "metadata": {},
     "output_type": "display_data"
    },
    {
     "name": "stdout",
     "output_type": "stream",
     "text": [
      "Epoch 1/20\n",
      "\u001b[1m25/25\u001b[0m \u001b[32m━━━━━━━━━━━━━━━━━━━━\u001b[0m\u001b[37m\u001b[0m \u001b[1m0s\u001b[0m 3ms/step - accuracy: 0.5858 - loss: 34.7564 - val_accuracy: 0.5847 - val_loss: 26.5155\n",
      "Epoch 2/20\n",
      "\u001b[1m25/25\u001b[0m \u001b[32m━━━━━━━━━━━━━━━━━━━━\u001b[0m\u001b[37m\u001b[0m \u001b[1m0s\u001b[0m 812us/step - accuracy: 0.6084 - loss: 22.6952 - val_accuracy: 0.5547 - val_loss: 20.0557\n",
      "Epoch 3/20\n",
      "\u001b[1m25/25\u001b[0m \u001b[32m━━━━━━━━━━━━━━━━━━━━\u001b[0m\u001b[37m\u001b[0m \u001b[1m0s\u001b[0m 833us/step - accuracy: 0.5761 - loss: 17.9685 - val_accuracy: 0.5347 - val_loss: 16.0014\n",
      "Epoch 4/20\n",
      "\u001b[1m25/25\u001b[0m \u001b[32m━━━━━━━━━━━━━━━━━━━━\u001b[0m\u001b[37m\u001b[0m \u001b[1m0s\u001b[0m 822us/step - accuracy: 0.5426 - loss: 14.9558 - val_accuracy: 0.5147 - val_loss: 12.1954\n",
      "Epoch 5/20\n",
      "\u001b[1m25/25\u001b[0m \u001b[32m━━━━━━━━━━━━━━━━━━━━\u001b[0m\u001b[37m\u001b[0m \u001b[1m0s\u001b[0m 815us/step - accuracy: 0.5284 - loss: 10.8723 - val_accuracy: 0.4884 - val_loss: 7.8477\n",
      "Epoch 6/20\n",
      "\u001b[1m25/25\u001b[0m \u001b[32m━━━━━━━━━━━━━━━━━━━━\u001b[0m\u001b[37m\u001b[0m \u001b[1m0s\u001b[0m 798us/step - accuracy: 0.5106 - loss: 6.4338 - val_accuracy: 0.4866 - val_loss: 3.5178\n",
      "Epoch 7/20\n",
      "\u001b[1m25/25\u001b[0m \u001b[32m━━━━━━━━━━━━━━━━━━━━\u001b[0m\u001b[37m\u001b[0m \u001b[1m0s\u001b[0m 773us/step - accuracy: 0.4785 - loss: 2.7963 - val_accuracy: 0.4703 - val_loss: 0.9800\n",
      "Epoch 8/20\n",
      "\u001b[1m25/25\u001b[0m \u001b[32m━━━━━━━━━━━━━━━━━━━━\u001b[0m\u001b[37m\u001b[0m \u001b[1m0s\u001b[0m 773us/step - accuracy: 0.4795 - loss: 0.8500 - val_accuracy: 0.5260 - val_loss: 0.7694\n",
      "Epoch 9/20\n",
      "\u001b[1m25/25\u001b[0m \u001b[32m━━━━━━━━━━━━━━━━━━━━\u001b[0m\u001b[37m\u001b[0m \u001b[1m0s\u001b[0m 807us/step - accuracy: 0.5108 - loss: 0.7472 - val_accuracy: 0.4415 - val_loss: 0.7285\n",
      "Epoch 10/20\n",
      "\u001b[1m25/25\u001b[0m \u001b[32m━━━━━━━━━━━━━━━━━━━━\u001b[0m\u001b[37m\u001b[0m \u001b[1m0s\u001b[0m 788us/step - accuracy: 0.4929 - loss: 0.7167 - val_accuracy: 0.5453 - val_loss: 0.7111\n",
      "Epoch 11/20\n",
      "\u001b[1m25/25\u001b[0m \u001b[32m━━━━━━━━━━━━━━━━━━━━\u001b[0m\u001b[37m\u001b[0m \u001b[1m0s\u001b[0m 781us/step - accuracy: 0.5558 - loss: 0.7077 - val_accuracy: 0.4853 - val_loss: 0.7042\n",
      "Epoch 12/20\n",
      "\u001b[1m25/25\u001b[0m \u001b[32m━━━━━━━━━━━━━━━━━━━━\u001b[0m\u001b[37m\u001b[0m \u001b[1m0s\u001b[0m 781us/step - accuracy: 0.5113 - loss: 0.6975 - val_accuracy: 0.5347 - val_loss: 0.6992\n",
      "Epoch 13/20\n",
      "\u001b[1m25/25\u001b[0m \u001b[32m━━━━━━━━━━━━━━━━━━━━\u001b[0m\u001b[37m\u001b[0m \u001b[1m0s\u001b[0m 812us/step - accuracy: 0.5245 - loss: 0.6995 - val_accuracy: 0.5122 - val_loss: 0.6961\n",
      "Epoch 14/20\n",
      "\u001b[1m25/25\u001b[0m \u001b[32m━━━━━━━━━━━━━━━━━━━━\u001b[0m\u001b[37m\u001b[0m \u001b[1m0s\u001b[0m 775us/step - accuracy: 0.5467 - loss: 0.6995 - val_accuracy: 0.5241 - val_loss: 0.6941\n",
      "Epoch 15/20\n",
      "\u001b[1m25/25\u001b[0m \u001b[32m━━━━━━━━━━━━━━━━━━━━\u001b[0m\u001b[37m\u001b[0m \u001b[1m0s\u001b[0m 1ms/step - accuracy: 0.5260 - loss: 0.6951 - val_accuracy: 0.5128 - val_loss: 0.6931\n",
      "Epoch 16/20\n",
      "\u001b[1m25/25\u001b[0m \u001b[32m━━━━━━━━━━━━━━━━━━━━\u001b[0m\u001b[37m\u001b[0m \u001b[1m0s\u001b[0m 814us/step - accuracy: 0.5256 - loss: 0.6957 - val_accuracy: 0.5522 - val_loss: 0.6916\n",
      "Epoch 17/20\n",
      "\u001b[1m25/25\u001b[0m \u001b[32m━━━━━━━━━━━━━━━━━━━━\u001b[0m\u001b[37m\u001b[0m \u001b[1m0s\u001b[0m 818us/step - accuracy: 0.5459 - loss: 0.6917 - val_accuracy: 0.5285 - val_loss: 0.6910\n",
      "Epoch 18/20\n",
      "\u001b[1m25/25\u001b[0m \u001b[32m━━━━━━━━━━━━━━━━━━━━\u001b[0m\u001b[37m\u001b[0m \u001b[1m0s\u001b[0m 762us/step - accuracy: 0.5639 - loss: 0.6922 - val_accuracy: 0.5572 - val_loss: 0.6901\n",
      "Epoch 19/20\n",
      "\u001b[1m25/25\u001b[0m \u001b[32m━━━━━━━━━━━━━━━━━━━━\u001b[0m\u001b[37m\u001b[0m \u001b[1m0s\u001b[0m 765us/step - accuracy: 0.5442 - loss: 0.6918 - val_accuracy: 0.5203 - val_loss: 0.6901\n",
      "Epoch 20/20\n",
      "\u001b[1m25/25\u001b[0m \u001b[32m━━━━━━━━━━━━━━━━━━━━\u001b[0m\u001b[37m\u001b[0m \u001b[1m0s\u001b[0m 783us/step - accuracy: 0.5366 - loss: 0.6920 - val_accuracy: 0.5572 - val_loss: 0.6894\n"
     ]
    },
    {
     "data": {
      "text/plain": [
       "<keras.src.callbacks.history.History at 0x15353cc10>"
      ]
     },
     "execution_count": 67,
     "metadata": {},
     "output_type": "execute_result"
    }
   ],
   "source": [
    "import tensorflow as tf\n",
    "from tensorflow.keras.models import Sequential\n",
    "from tensorflow.keras.layers import Dense\n",
    "\n",
    "# Defining the number of input features\n",
    "input_dim = x_train.shape[1]  # Assuming x_train is your training data\n",
    "\n",
    "# Creating the model\n",
    "NN_model = Sequential()\n",
    "\n",
    "# Adding the input layer and one hidden layer with 3 units and activation function\n",
    "NN_model.add(Dense(units=3, input_dim=input_dim, activation='relu'))\n",
    "\n",
    "# Adding the output layer with activation function\n",
    "NN_model.add(Dense(units=1, activation='sigmoid'))\n",
    "\n",
    "# Compiling the model\n",
    "NN_model.compile(optimizer='adam', loss='binary_crossentropy', metrics=['accuracy'])\n",
    "\n",
    "# Printing the model summary\n",
    "NN_model.summary()\n",
    "\n",
    "# Training the model\n",
    "NN_model.fit(x_train, y_train, epochs=20, batch_size=256, validation_data=(x_test, y_test))\n"
   ]
  },
  {
   "cell_type": "code",
   "execution_count": 68,
   "id": "5fb8d31d-d5d7-41ee-a647-c00d5531dddc",
   "metadata": {},
   "outputs": [
    {
     "name": "stdout",
     "output_type": "stream",
     "text": [
      "\u001b[1m50/50\u001b[0m \u001b[32m━━━━━━━━━━━━━━━━━━━━\u001b[0m\u001b[37m\u001b[0m \u001b[1m0s\u001b[0m 395us/step\n",
      "[[0.50391054]\n",
      " [0.5400373 ]\n",
      " [0.49249008]\n",
      " ...\n",
      " [0.54363763]\n",
      " [0.484494  ]\n",
      " [0.48687074]]\n",
      "prediction shape: (1599, 1)\n",
      "<class 'numpy.ndarray'>\n",
      "[[1.]\n",
      " [1.]\n",
      " [0.]\n",
      " ...\n",
      " [1.]\n",
      " [0.]\n",
      " [0.]]\n"
     ]
    }
   ],
   "source": [
    "pred = NN_model.predict(x_test)\n",
    "\n",
    "print(pred)\n",
    "print(\"prediction shape:\", prediction.shape)\n",
    "print(type(pred))\n",
    "pred[pred > .5] = 1\n",
    "pred[pred <= .5] = 0\n",
    "print(pred)"
   ]
  },
  {
   "cell_type": "code",
   "execution_count": 69,
   "id": "e84559fd-c21b-49f8-ab1a-025845ffb595",
   "metadata": {},
   "outputs": [
    {
     "data": {
      "image/png": "[encoded data removed]",
      "text/plain": [
       "<Figure size 640x480 with 1 Axes>"
      ]
     },
     "metadata": {},
     "output_type": "display_data"
    }
   ],
   "source": [
    "from sklearn.metrics import confusion_matrix, accuracy_score\n",
    "import seaborn as sns\n",
    "import numpy as np\n",
    "import matplotlib.pyplot as plt\n",
    "\n",
    "labels = y.unique()\n",
    "\n",
    "NN_matrix = confusion_matrix(y_test, pred)\n",
    "\n",
    "# if only first row values are annotated then upgrade your seaborn\n",
    "# pip install seaborn --upgrade\n",
    "sns.heatmap(NN_matrix, annot=True, fmt='d', xticklabels=labels, yticklabels=labels, cmap='Blues', cbar=False)\n",
    "plt.title(\"Confusion Matrix\",fontsize=15)\n",
    "plt.xlabel(\"Actual\", fontsize=10)\n",
    "plt.ylabel(\"Predicted\", fontsize=10)\n",
    "plt.show()"
   ]
  },
  {
   "cell_type": "code",
   "execution_count": 70,
   "id": "874b74e5-378b-4840-9ed2-0647bc84e5ca",
   "metadata": {},
   "outputs": [
    {
     "name": "stdout",
     "output_type": "stream",
     "text": [
      "accuracy = 0.5572232645403377\n"
     ]
    }
   ],
   "source": [
    "# calculating accuracy\n",
    "accuracy = accuracy_score(y_test, pred)\n",
    "print(\"accuracy =\", accuracy)"
   ]
  },
  {
   "cell_type": "code",
   "execution_count": null,
   "id": "63e8a861-5078-468d-a59a-1019c7e22097",
   "metadata": {},
   "outputs": [],
   "source": []
  }
 ],
 "metadata": {
  "kernelspec": {
   "display_name": "Python 3 (ipykernel)",
   "language": "python",
   "name": "python3"
  },
  "language_info": {
   "codemirror_mode": {
    "name": "ipython",
    "version": 3
   },
   "file_extension": ".py",
   "mimetype": "text/x-python",
   "name": "python",
   "nbconvert_exporter": "python",
   "pygments_lexer": "ipython3",
   "version": "3.11.7"
  }
 },
 "nbformat": 4,
 "nbformat_minor": 5
}
