{
 "cells": [
  {
   "cell_type": "code",
   "execution_count": 1,
   "id": "ad81a3d2-26d2-4f3f-9211-68070b1c67f8",
   "metadata": {},
   "outputs": [
    {
     "data": {
      "text/html": [
       "<div>\n",
       "<style scoped>\n",
       "    .dataframe tbody tr th:only-of-type {\n",
       "        vertical-align: middle;\n",
       "    }\n",
       "\n",
       "    .dataframe tbody tr th {\n",
       "        vertical-align: top;\n",
       "    }\n",
       "\n",
       "    .dataframe thead th {\n",
       "        text-align: right;\n",
       "    }\n",
       "</style>\n",
       "<table border=\"1\" class=\"dataframe\">\n",
       "  <thead>\n",
       "    <tr style=\"text-align: right;\">\n",
       "      <th></th>\n",
       "      <th>datetime</th>\n",
       "      <th>city</th>\n",
       "      <th>humidity</th>\n",
       "      <th>pressure</th>\n",
       "      <th>temperature</th>\n",
       "      <th>wind_speed</th>\n",
       "      <th>wind_direction</th>\n",
       "      <th>latitude</th>\n",
       "      <th>longitude</th>\n",
       "      <th>weather</th>\n",
       "    </tr>\n",
       "  </thead>\n",
       "  <tbody>\n",
       "    <tr>\n",
       "      <th>0</th>\n",
       "      <td>2017-01-01 00:00:00</td>\n",
       "      <td>Portland</td>\n",
       "      <td>96.0</td>\n",
       "      <td>1017.0</td>\n",
       "      <td>35.582</td>\n",
       "      <td>3.0</td>\n",
       "      <td>160.0</td>\n",
       "      <td>45.523449</td>\n",
       "      <td>-122.676208</td>\n",
       "      <td>foggy</td>\n",
       "    </tr>\n",
       "    <tr>\n",
       "      <th>1</th>\n",
       "      <td>2017-01-01 01:00:00</td>\n",
       "      <td>Portland</td>\n",
       "      <td>96.0</td>\n",
       "      <td>1016.0</td>\n",
       "      <td>35.852</td>\n",
       "      <td>2.0</td>\n",
       "      <td>200.0</td>\n",
       "      <td>45.523449</td>\n",
       "      <td>-122.676208</td>\n",
       "      <td>rainy</td>\n",
       "    </tr>\n",
       "    <tr>\n",
       "      <th>2</th>\n",
       "      <td>2017-01-01 02:00:00</td>\n",
       "      <td>Portland</td>\n",
       "      <td>99.0</td>\n",
       "      <td>1015.0</td>\n",
       "      <td>35.600</td>\n",
       "      <td>3.0</td>\n",
       "      <td>221.0</td>\n",
       "      <td>45.523449</td>\n",
       "      <td>-122.676208</td>\n",
       "      <td>foggy</td>\n",
       "    </tr>\n",
       "    <tr>\n",
       "      <th>3</th>\n",
       "      <td>2017-01-01 03:00:00</td>\n",
       "      <td>Portland</td>\n",
       "      <td>99.0</td>\n",
       "      <td>1014.0</td>\n",
       "      <td>35.312</td>\n",
       "      <td>2.0</td>\n",
       "      <td>170.0</td>\n",
       "      <td>45.523449</td>\n",
       "      <td>-122.676208</td>\n",
       "      <td>rainy</td>\n",
       "    </tr>\n",
       "    <tr>\n",
       "      <th>4</th>\n",
       "      <td>2017-01-01 04:00:00</td>\n",
       "      <td>Portland</td>\n",
       "      <td>99.0</td>\n",
       "      <td>1013.0</td>\n",
       "      <td>34.826</td>\n",
       "      <td>1.0</td>\n",
       "      <td>210.0</td>\n",
       "      <td>45.523449</td>\n",
       "      <td>-122.676208</td>\n",
       "      <td>rainy</td>\n",
       "    </tr>\n",
       "  </tbody>\n",
       "</table>\n",
       "</div>"
      ],
      "text/plain": [
       "              datetime      city  humidity  pressure  temperature  wind_speed  \\\n",
       "0  2017-01-01 00:00:00  Portland      96.0    1017.0       35.582         3.0   \n",
       "1  2017-01-01 01:00:00  Portland      96.0    1016.0       35.852         2.0   \n",
       "2  2017-01-01 02:00:00  Portland      99.0    1015.0       35.600         3.0   \n",
       "3  2017-01-01 03:00:00  Portland      99.0    1014.0       35.312         2.0   \n",
       "4  2017-01-01 04:00:00  Portland      99.0    1013.0       34.826         1.0   \n",
       "\n",
       "   wind_direction   latitude   longitude weather  \n",
       "0           160.0  45.523449 -122.676208   foggy  \n",
       "1           200.0  45.523449 -122.676208   rainy  \n",
       "2           221.0  45.523449 -122.676208   foggy  \n",
       "3           170.0  45.523449 -122.676208   rainy  \n",
       "4           210.0  45.523449 -122.676208   rainy  "
      ]
     },
     "execution_count": 1,
     "metadata": {},
     "output_type": "execute_result"
    }
   ],
   "source": [
    "# loading cleaned weather dataset\n",
    "import pandas as pd\n",
    "import numpy as np\n",
    "df = pd.read_csv('cleaned_data.csv')\n",
    "df.head()"
   ]
  },
  {
   "cell_type": "code",
   "execution_count": 2,
   "id": "6bc4fc06-29c6-45cc-a0d2-07b068eeb70b",
   "metadata": {},
   "outputs": [
    {
     "data": {
      "text/html": [
       "<div>\n",
       "<style scoped>\n",
       "    .dataframe tbody tr th:only-of-type {\n",
       "        vertical-align: middle;\n",
       "    }\n",
       "\n",
       "    .dataframe tbody tr th {\n",
       "        vertical-align: top;\n",
       "    }\n",
       "\n",
       "    .dataframe thead th {\n",
       "        text-align: right;\n",
       "    }\n",
       "</style>\n",
       "<table border=\"1\" class=\"dataframe\">\n",
       "  <thead>\n",
       "    <tr style=\"text-align: right;\">\n",
       "      <th></th>\n",
       "      <th>datetime</th>\n",
       "      <th>humidity</th>\n",
       "      <th>pressure</th>\n",
       "      <th>temperature</th>\n",
       "      <th>wind_speed</th>\n",
       "      <th>wind_direction</th>\n",
       "      <th>latitude</th>\n",
       "      <th>longitude</th>\n",
       "      <th>weather</th>\n",
       "    </tr>\n",
       "  </thead>\n",
       "  <tbody>\n",
       "    <tr>\n",
       "      <th>0</th>\n",
       "      <td>2017-01-01 00:00:00</td>\n",
       "      <td>36.0</td>\n",
       "      <td>1006.0</td>\n",
       "      <td>37.814</td>\n",
       "      <td>3.0</td>\n",
       "      <td>10.0</td>\n",
       "      <td>39.739151</td>\n",
       "      <td>-104.984703</td>\n",
       "      <td>clear</td>\n",
       "    </tr>\n",
       "    <tr>\n",
       "      <th>1</th>\n",
       "      <td>2017-01-01 01:00:00</td>\n",
       "      <td>36.0</td>\n",
       "      <td>1006.0</td>\n",
       "      <td>29.174</td>\n",
       "      <td>2.0</td>\n",
       "      <td>340.0</td>\n",
       "      <td>39.739151</td>\n",
       "      <td>-104.984703</td>\n",
       "      <td>cloudy</td>\n",
       "    </tr>\n",
       "    <tr>\n",
       "      <th>2</th>\n",
       "      <td>2017-01-01 02:00:00</td>\n",
       "      <td>68.0</td>\n",
       "      <td>1008.0</td>\n",
       "      <td>28.418</td>\n",
       "      <td>1.0</td>\n",
       "      <td>189.0</td>\n",
       "      <td>39.739151</td>\n",
       "      <td>-104.984703</td>\n",
       "      <td>clear</td>\n",
       "    </tr>\n",
       "    <tr>\n",
       "      <th>3</th>\n",
       "      <td>2017-01-01 03:00:00</td>\n",
       "      <td>79.0</td>\n",
       "      <td>1008.0</td>\n",
       "      <td>26.924</td>\n",
       "      <td>1.0</td>\n",
       "      <td>210.0</td>\n",
       "      <td>39.739151</td>\n",
       "      <td>-104.984703</td>\n",
       "      <td>clear</td>\n",
       "    </tr>\n",
       "    <tr>\n",
       "      <th>4</th>\n",
       "      <td>2017-01-01 04:00:00</td>\n",
       "      <td>79.0</td>\n",
       "      <td>1008.0</td>\n",
       "      <td>25.142</td>\n",
       "      <td>1.0</td>\n",
       "      <td>189.0</td>\n",
       "      <td>39.739151</td>\n",
       "      <td>-104.984703</td>\n",
       "      <td>clear</td>\n",
       "    </tr>\n",
       "    <tr>\n",
       "      <th>...</th>\n",
       "      <td>...</td>\n",
       "      <td>...</td>\n",
       "      <td>...</td>\n",
       "      <td>...</td>\n",
       "      <td>...</td>\n",
       "      <td>...</td>\n",
       "      <td>...</td>\n",
       "      <td>...</td>\n",
       "      <td>...</td>\n",
       "    </tr>\n",
       "    <tr>\n",
       "      <th>7988</th>\n",
       "      <td>2017-11-29 20:00:00</td>\n",
       "      <td>18.0</td>\n",
       "      <td>1016.0</td>\n",
       "      <td>61.538</td>\n",
       "      <td>3.0</td>\n",
       "      <td>310.0</td>\n",
       "      <td>39.739151</td>\n",
       "      <td>-104.984703</td>\n",
       "      <td>cloudy</td>\n",
       "    </tr>\n",
       "    <tr>\n",
       "      <th>7989</th>\n",
       "      <td>2017-11-29 21:00:00</td>\n",
       "      <td>12.0</td>\n",
       "      <td>1018.0</td>\n",
       "      <td>63.590</td>\n",
       "      <td>6.0</td>\n",
       "      <td>300.0</td>\n",
       "      <td>39.739151</td>\n",
       "      <td>-104.984703</td>\n",
       "      <td>clear</td>\n",
       "    </tr>\n",
       "    <tr>\n",
       "      <th>7990</th>\n",
       "      <td>2017-11-29 22:00:00</td>\n",
       "      <td>15.0</td>\n",
       "      <td>1018.0</td>\n",
       "      <td>61.808</td>\n",
       "      <td>3.0</td>\n",
       "      <td>340.0</td>\n",
       "      <td>39.739151</td>\n",
       "      <td>-104.984703</td>\n",
       "      <td>clear</td>\n",
       "    </tr>\n",
       "    <tr>\n",
       "      <th>7991</th>\n",
       "      <td>2017-11-29 23:00:00</td>\n",
       "      <td>28.0</td>\n",
       "      <td>1020.0</td>\n",
       "      <td>60.836</td>\n",
       "      <td>1.0</td>\n",
       "      <td>10.0</td>\n",
       "      <td>39.739151</td>\n",
       "      <td>-104.984703</td>\n",
       "      <td>foggy</td>\n",
       "    </tr>\n",
       "    <tr>\n",
       "      <th>7992</th>\n",
       "      <td>2017-11-30 00:00:00</td>\n",
       "      <td>31.0</td>\n",
       "      <td>1021.0</td>\n",
       "      <td>53.654</td>\n",
       "      <td>3.0</td>\n",
       "      <td>30.0</td>\n",
       "      <td>39.739151</td>\n",
       "      <td>-104.984703</td>\n",
       "      <td>clear</td>\n",
       "    </tr>\n",
       "  </tbody>\n",
       "</table>\n",
       "<p>7993 rows × 9 columns</p>\n",
       "</div>"
      ],
      "text/plain": [
       "                 datetime  humidity  pressure  temperature  wind_speed  \\\n",
       "0     2017-01-01 00:00:00      36.0    1006.0       37.814         3.0   \n",
       "1     2017-01-01 01:00:00      36.0    1006.0       29.174         2.0   \n",
       "2     2017-01-01 02:00:00      68.0    1008.0       28.418         1.0   \n",
       "3     2017-01-01 03:00:00      79.0    1008.0       26.924         1.0   \n",
       "4     2017-01-01 04:00:00      79.0    1008.0       25.142         1.0   \n",
       "...                   ...       ...       ...          ...         ...   \n",
       "7988  2017-11-29 20:00:00      18.0    1016.0       61.538         3.0   \n",
       "7989  2017-11-29 21:00:00      12.0    1018.0       63.590         6.0   \n",
       "7990  2017-11-29 22:00:00      15.0    1018.0       61.808         3.0   \n",
       "7991  2017-11-29 23:00:00      28.0    1020.0       60.836         1.0   \n",
       "7992  2017-11-30 00:00:00      31.0    1021.0       53.654         3.0   \n",
       "\n",
       "      wind_direction   latitude   longitude weather  \n",
       "0               10.0  39.739151 -104.984703   clear  \n",
       "1              340.0  39.739151 -104.984703  cloudy  \n",
       "2              189.0  39.739151 -104.984703   clear  \n",
       "3              210.0  39.739151 -104.984703   clear  \n",
       "4              189.0  39.739151 -104.984703   clear  \n",
       "...              ...        ...         ...     ...  \n",
       "7988           310.0  39.739151 -104.984703  cloudy  \n",
       "7989           300.0  39.739151 -104.984703   clear  \n",
       "7990           340.0  39.739151 -104.984703   clear  \n",
       "7991            10.0  39.739151 -104.984703   foggy  \n",
       "7992            30.0  39.739151 -104.984703   clear  \n",
       "\n",
       "[7993 rows x 9 columns]"
      ]
     },
     "execution_count": 2,
     "metadata": {},
     "output_type": "execute_result"
    }
   ],
   "source": [
    "# filtering denver data\n",
    "denver_df = df[df['city'] == 'Denver']\n",
    "# dropping city as only denver data is present and resetting the index\n",
    "denver_df = denver_df.drop(columns = ['city']).reset_index(drop=True)\n",
    "denver_df"
   ]
  },
  {
   "cell_type": "code",
   "execution_count": 3,
   "id": "78608b9f-7201-4f4a-b78a-7c9c0fba356c",
   "metadata": {},
   "outputs": [],
   "source": [
    "# creating a function to label data based on weather description\n",
    "def weather_labels(description):\n",
    "    if 'clear' in description:\n",
    "        return 'clear'\n",
    "    else:\n",
    "        return 'not clear'"
   ]
  },
  {
   "cell_type": "code",
   "execution_count": 4,
   "id": "e0a4c287-6424-4c46-b739-e963bc56b448",
   "metadata": {},
   "outputs": [
    {
     "data": {
      "text/plain": [
       "weather\n",
       "clear        4161\n",
       "not clear    3832\n",
       "Name: count, dtype: int64"
      ]
     },
     "execution_count": 4,
     "metadata": {},
     "output_type": "execute_result"
    }
   ],
   "source": [
    "# applying weather_labels function\n",
    "denver_df['weather'] = denver_df['weather'].apply(weather_labels)\n",
    "denver_df.weather.value_counts()"
   ]
  },
  {
   "cell_type": "code",
   "execution_count": 5,
   "id": "1c9474e4-f180-40e7-b460-0eabdb80e9d1",
   "metadata": {},
   "outputs": [
    {
     "data": {
      "text/plain": [
       "datetime            object\n",
       "humidity           float64\n",
       "pressure           float64\n",
       "temperature        float64\n",
       "wind_speed         float64\n",
       "wind_direction     float64\n",
       "latitude           float64\n",
       "longitude          float64\n",
       "weather           category\n",
       "dtype: object"
      ]
     },
     "execution_count": 5,
     "metadata": {},
     "output_type": "execute_result"
    }
   ],
   "source": [
    "# converting weather into category type\n",
    "denver_df['weather'] = denver_df['weather'].astype('category')\n",
    "denver_df.dtypes"
   ]
  },
  {
   "cell_type": "code",
   "execution_count": 6,
   "id": "5f537730-016c-42ba-b3b3-47c4a3b7575a",
   "metadata": {},
   "outputs": [],
   "source": [
    "# In Python - the SVM work ONLY on quantitative data\n",
    "x = denver_df.drop(columns=['datetime', 'latitude', 'longitude', 'weather'])\n",
    "y = denver_df['weather']"
   ]
  },
  {
   "cell_type": "code",
   "execution_count": 7,
   "id": "10c57c1b-2097-429d-9ef5-6d18547935bf",
   "metadata": {},
   "outputs": [],
   "source": [
    "from sklearn.model_selection import train_test_split\n",
    "# creating disjoint train and test data\n",
    "# using stratified sampling to ensure that each class is represented proportionally in both sets.\n",
    "x_train, x_test, y_train, y_test = train_test_split(x, y, test_size = 0.2, random_state=123)"
   ]
  },
  {
   "cell_type": "code",
   "execution_count": 8,
   "id": "e97f8dd5-120c-49a1-b041-9f7081396c2e",
   "metadata": {},
   "outputs": [
    {
     "data": {
      "text/plain": [
       "weather\n",
       "clear        3320\n",
       "not clear    3074\n",
       "Name: count, dtype: int64"
      ]
     },
     "execution_count": 8,
     "metadata": {},
     "output_type": "execute_result"
    }
   ],
   "source": [
    "y_train.value_counts()"
   ]
  },
  {
   "cell_type": "code",
   "execution_count": 9,
   "id": "752c53b9-aa66-41f1-9eec-6294d7119232",
   "metadata": {},
   "outputs": [
    {
     "data": {
      "text/plain": [
       "weather\n",
       "clear        841\n",
       "not clear    758\n",
       "Name: count, dtype: int64"
      ]
     },
     "execution_count": 9,
     "metadata": {},
     "output_type": "execute_result"
    }
   ],
   "source": [
    "y_test.value_counts()"
   ]
  },
  {
   "cell_type": "code",
   "execution_count": 10,
   "id": "c4b30708-0529-41a2-abfc-a3cdc364591f",
   "metadata": {},
   "outputs": [
    {
     "name": "stderr",
     "output_type": "stream",
     "text": [
      "/Users/yeshwanth/anaconda3/lib/python3.11/site-packages/sklearn/svm/_base.py:1244: ConvergenceWarning: Liblinear failed to converge, increase the number of iterations.\n",
      "  warnings.warn(\n"
     ]
    },
    {
     "data": {
      "text/html": [
       "<style>#sk-container-id-1 {color: black;background-color: white;}#sk-container-id-1 pre{padding: 0;}#sk-container-id-1 div.sk-toggleable {background-color: white;}#sk-container-id-1 label.sk-toggleable__label {cursor: pointer;display: block;width: 100%;margin-bottom: 0;padding: 0.3em;box-sizing: border-box;text-align: center;}#sk-container-id-1 label.sk-toggleable__label-arrow:before {content: \"▸\";float: left;margin-right: 0.25em;color: #696969;}#sk-container-id-1 label.sk-toggleable__label-arrow:hover:before {color: black;}#sk-container-id-1 div.sk-estimator:hover label.sk-toggleable__label-arrow:before {color: black;}#sk-container-id-1 div.sk-toggleable__content {max-height: 0;max-width: 0;overflow: hidden;text-align: left;background-color: #f0f8ff;}#sk-container-id-1 div.sk-toggleable__content pre {margin: 0.2em;color: black;border-radius: 0.25em;background-color: #f0f8ff;}#sk-container-id-1 input.sk-toggleable__control:checked~div.sk-toggleable__content {max-height: 200px;max-width: 100%;overflow: auto;}#sk-container-id-1 input.sk-toggleable__control:checked~label.sk-toggleable__label-arrow:before {content: \"▾\";}#sk-container-id-1 div.sk-estimator input.sk-toggleable__control:checked~label.sk-toggleable__label {background-color: #d4ebff;}#sk-container-id-1 div.sk-label input.sk-toggleable__control:checked~label.sk-toggleable__label {background-color: #d4ebff;}#sk-container-id-1 input.sk-hidden--visually {border: 0;clip: rect(1px 1px 1px 1px);clip: rect(1px, 1px, 1px, 1px);height: 1px;margin: -1px;overflow: hidden;padding: 0;position: absolute;width: 1px;}#sk-container-id-1 div.sk-estimator {font-family: monospace;background-color: #f0f8ff;border: 1px dotted black;border-radius: 0.25em;box-sizing: border-box;margin-bottom: 0.5em;}#sk-container-id-1 div.sk-estimator:hover {background-color: #d4ebff;}#sk-container-id-1 div.sk-parallel-item::after {content: \"\";width: 100%;border-bottom: 1px solid gray;flex-grow: 1;}#sk-container-id-1 div.sk-label:hover label.sk-toggleable__label {background-color: #d4ebff;}#sk-container-id-1 div.sk-serial::before {content: \"\";position: absolute;border-left: 1px solid gray;box-sizing: border-box;top: 0;bottom: 0;left: 50%;z-index: 0;}#sk-container-id-1 div.sk-serial {display: flex;flex-direction: column;align-items: center;background-color: white;padding-right: 0.2em;padding-left: 0.2em;position: relative;}#sk-container-id-1 div.sk-item {position: relative;z-index: 1;}#sk-container-id-1 div.sk-parallel {display: flex;align-items: stretch;justify-content: center;background-color: white;position: relative;}#sk-container-id-1 div.sk-item::before, #sk-container-id-1 div.sk-parallel-item::before {content: \"\";position: absolute;border-left: 1px solid gray;box-sizing: border-box;top: 0;bottom: 0;left: 50%;z-index: -1;}#sk-container-id-1 div.sk-parallel-item {display: flex;flex-direction: column;z-index: 1;position: relative;background-color: white;}#sk-container-id-1 div.sk-parallel-item:first-child::after {align-self: flex-end;width: 50%;}#sk-container-id-1 div.sk-parallel-item:last-child::after {align-self: flex-start;width: 50%;}#sk-container-id-1 div.sk-parallel-item:only-child::after {width: 0;}#sk-container-id-1 div.sk-dashed-wrapped {border: 1px dashed gray;margin: 0 0.4em 0.5em 0.4em;box-sizing: border-box;padding-bottom: 0.4em;background-color: white;}#sk-container-id-1 div.sk-label label {font-family: monospace;font-weight: bold;display: inline-block;line-height: 1.2em;}#sk-container-id-1 div.sk-label-container {text-align: center;}#sk-container-id-1 div.sk-container {/* jupyter's `normalize.less` sets `[hidden] { display: none; }` but bootstrap.min.css set `[hidden] { display: none !important; }` so we also need the `!important` here to be able to override the default hidden behavior on the sphinx rendered scikit-learn.org. See: https://github.com/scikit-learn/scikit-learn/issues/21755 */display: inline-block !important;position: relative;}#sk-container-id-1 div.sk-text-repr-fallback {display: none;}</style><div id=\"sk-container-id-1\" class=\"sk-top-container\"><div class=\"sk-text-repr-fallback\"><pre>LinearSVC(C=1)</pre><b>In a Jupyter environment, please rerun this cell to show the HTML representation or trust the notebook. <br />On GitHub, the HTML representation is unable to render, please try loading this page with nbviewer.org.</b></div><div class=\"sk-container\" hidden><div class=\"sk-item\"><div class=\"sk-estimator sk-toggleable\"><input class=\"sk-toggleable__control sk-hidden--visually\" id=\"sk-estimator-id-1\" type=\"checkbox\" checked><label for=\"sk-estimator-id-1\" class=\"sk-toggleable__label sk-toggleable__label-arrow\">LinearSVC</label><div class=\"sk-toggleable__content\"><pre>LinearSVC(C=1)</pre></div></div></div></div></div>"
      ],
      "text/plain": [
       "LinearSVC(C=1)"
      ]
     },
     "execution_count": 10,
     "metadata": {},
     "output_type": "execute_result"
    }
   ],
   "source": [
    "from sklearn.svm import LinearSVC\n",
    "\n",
    "SVM_Model_linear1=LinearSVC(C=1)\n",
    "SVM_Model_linear1.fit(x_train, y_train)"
   ]
  },
  {
   "cell_type": "code",
   "execution_count": 11,
   "id": "d5d4b5a5-f402-4c6a-893d-7b30eca0c78a",
   "metadata": {},
   "outputs": [
    {
     "name": "stdout",
     "output_type": "stream",
     "text": [
      "SVM Linear 1 prediction:\n",
      " ['clear' 'clear' 'clear' ... 'clear' 'clear' 'clear']\n",
      "Actual:\n",
      "3015    not clear\n",
      "599         clear\n",
      "415         clear\n",
      "1708    not clear\n",
      "3927        clear\n",
      "          ...    \n",
      "5925    not clear\n",
      "7432    not clear\n",
      "7499    not clear\n",
      "315         clear\n",
      "7677        clear\n",
      "Name: weather, Length: 1599, dtype: category\n",
      "Categories (2, object): ['clear', 'not clear']\n"
     ]
    }
   ],
   "source": [
    "print(\"SVM Linear 1 prediction:\\n\", SVM_Model_linear1.predict(x_test))\n",
    "print(\"Actual:\")\n",
    "print(y_test)"
   ]
  },
  {
   "cell_type": "code",
   "execution_count": 12,
   "id": "774aff9d-6d9e-489e-9db4-46047cf3be06",
   "metadata": {},
   "outputs": [
    {
     "data": {
      "image/png": "[encoded data removed]",
      "text/plain": [
       "<Figure size 640x480 with 1 Axes>"
      ]
     },
     "metadata": {},
     "output_type": "display_data"
    }
   ],
   "source": [
    "import seaborn as sns\n",
    "import numpy as np\n",
    "import matplotlib.pyplot as plt\n",
    "from sklearn.metrics import confusion_matrix\n",
    "\n",
    "labels = y.unique()\n",
    "\n",
    "SVM_Linear1_matrix = confusion_matrix(y_test, SVM_Model_linear1.predict(x_test))\n",
    "\n",
    "# if only first row values are annotated then upgrade your seaborn\n",
    "# pip install seaborn --upgrade\n",
    "sns.heatmap(SVM_Linear1_matrix, annot=True, fmt='d', xticklabels=labels, yticklabels=labels, cmap='Blues', cbar=False)\n",
    "plt.title(\"Confusion Matrix\",fontsize=15)\n",
    "plt.xlabel(\"Actual\", fontsize=10)\n",
    "plt.ylabel(\"Predicted\", fontsize=10)\n",
    "plt.show()"
   ]
  },
  {
   "cell_type": "code",
   "execution_count": 49,
   "id": "5ae15294-3021-48c0-913a-d3d46b757181",
   "metadata": {},
   "outputs": [
    {
     "name": "stdout",
     "output_type": "stream",
     "text": [
      "accuracy_linear1 = 0.5347091932457786\n"
     ]
    }
   ],
   "source": [
    "from sklearn.metrics import accuracy_score, classification_report\n",
    "\n",
    "accuracy_linear1 = accuracy_score(y_test, SVM_Model_linear1.predict(x_test))\n",
    "print(\"accuracy_linear1 =\", accuracy_linear1 )"
   ]
  },
  {
   "cell_type": "code",
   "execution_count": 14,
   "id": "843b1aae-add4-4416-b490-e04da5780f22",
   "metadata": {},
   "outputs": [
    {
     "name": "stdout",
     "output_type": "stream",
     "text": [
      "SVM Linear 2 prediction:\n",
      " ['clear' 'clear' 'clear' ... 'clear' 'clear' 'clear']\n",
      "Actual:\n",
      "3015    not clear\n",
      "599         clear\n",
      "415         clear\n",
      "1708    not clear\n",
      "3927        clear\n",
      "          ...    \n",
      "5925    not clear\n",
      "7432    not clear\n",
      "7499    not clear\n",
      "315         clear\n",
      "7677        clear\n",
      "Name: weather, Length: 1599, dtype: category\n",
      "Categories (2, object): ['clear', 'not clear']\n"
     ]
    },
    {
     "name": "stderr",
     "output_type": "stream",
     "text": [
      "/Users/yeshwanth/anaconda3/lib/python3.11/site-packages/sklearn/svm/_base.py:1244: ConvergenceWarning: Liblinear failed to converge, increase the number of iterations.\n",
      "  warnings.warn(\n"
     ]
    }
   ],
   "source": [
    "SVM_Model_linear2=LinearSVC(C=10)\n",
    "SVM_Model_linear2.fit(x_train, y_train)\n",
    "\n",
    "print(\"SVM Linear 2 prediction:\\n\", SVM_Model_linear2.predict(x_test))\n",
    "print(\"Actual:\")\n",
    "print(y_test)"
   ]
  },
  {
   "cell_type": "code",
   "execution_count": 15,
   "id": "b5dbfafa-ff43-4d5b-9796-50f99e79e9ff",
   "metadata": {},
   "outputs": [
    {
     "data": {
      "image/png": "[encoded data removed]",
      "text/plain": [
       "<Figure size 640x480 with 1 Axes>"
      ]
     },
     "metadata": {},
     "output_type": "display_data"
    }
   ],
   "source": [
    "SVM_Linear2_matrix = confusion_matrix(y_test, SVM_Model_linear2.predict(x_test))\n",
    "\n",
    "# if only first row values are annotated then upgrade your seaborn\n",
    "# pip install seaborn --upgrade\n",
    "sns.heatmap(SVM_Linear2_matrix, annot=True, fmt='d', xticklabels=labels, yticklabels=labels, cmap='Blues', cbar=False)\n",
    "plt.title(\"Confusion Matrix\",fontsize=15)\n",
    "plt.xlabel(\"Actual\", fontsize=10)\n",
    "plt.ylabel(\"Predicted\", fontsize=10)\n",
    "plt.show()"
   ]
  },
  {
   "cell_type": "code",
   "execution_count": 50,
   "id": "eacd1c72-e612-4cc1-b041-d47d030fe156",
   "metadata": {},
   "outputs": [
    {
     "name": "stdout",
     "output_type": "stream",
     "text": [
      "accuracy_linear2 = 0.5409631019387117\n"
     ]
    }
   ],
   "source": [
    "accuracy_linear2 = accuracy_score(y_test, SVM_Model_linear2.predict(x_test))\n",
    "print(\"accuracy_linear2 =\", accuracy_linear2 )"
   ]
  },
  {
   "cell_type": "code",
   "execution_count": 17,
   "id": "59075ba8-651e-4108-a9d3-a8f9865bf9ce",
   "metadata": {},
   "outputs": [
    {
     "name": "stdout",
     "output_type": "stream",
     "text": [
      "SVM Linear 3 prediction:\n",
      " ['clear' 'not clear' 'not clear' ... 'not clear' 'not clear' 'clear']\n",
      "Actual:\n",
      "3015    not clear\n",
      "599         clear\n",
      "415         clear\n",
      "1708    not clear\n",
      "3927        clear\n",
      "          ...    \n",
      "5925    not clear\n",
      "7432    not clear\n",
      "7499    not clear\n",
      "315         clear\n",
      "7677        clear\n",
      "Name: weather, Length: 1599, dtype: category\n",
      "Categories (2, object): ['clear', 'not clear']\n"
     ]
    },
    {
     "name": "stderr",
     "output_type": "stream",
     "text": [
      "/Users/yeshwanth/anaconda3/lib/python3.11/site-packages/sklearn/svm/_base.py:1244: ConvergenceWarning: Liblinear failed to converge, increase the number of iterations.\n",
      "  warnings.warn(\n"
     ]
    }
   ],
   "source": [
    "SVM_Model_linear3=LinearSVC(C=50)\n",
    "SVM_Model_linear3.fit(x_train, y_train)\n",
    "\n",
    "print(\"SVM Linear 3 prediction:\\n\", SVM_Model_linear3.predict(x_test))\n",
    "print(\"Actual:\")\n",
    "print(y_test)"
   ]
  },
  {
   "cell_type": "code",
   "execution_count": 18,
   "id": "ff8b84fc-232e-46be-b751-99256af388ea",
   "metadata": {},
   "outputs": [
    {
     "data": {
      "image/png": "[encoded data removed]",
      "text/plain": [
       "<Figure size 640x480 with 1 Axes>"
      ]
     },
     "metadata": {},
     "output_type": "display_data"
    }
   ],
   "source": [
    "SVM_Linear3_matrix = confusion_matrix(y_test, SVM_Model_linear3.predict(x_test))\n",
    "\n",
    "# if only first row values are annotated then upgrade your seaborn\n",
    "# pip install seaborn --upgrade\n",
    "sns.heatmap(SVM_Linear3_matrix, annot=True, fmt='d', xticklabels=labels, yticklabels=labels, cmap='Blues', cbar=False)\n",
    "plt.title(\"Confusion Matrix\",fontsize=15)\n",
    "plt.xlabel(\"Actual\", fontsize=10)\n",
    "plt.ylabel(\"Predicted\", fontsize=10)\n",
    "plt.show()"
   ]
  },
  {
   "cell_type": "code",
   "execution_count": 51,
   "id": "bfd0831f-655a-4b24-a3e5-b8ce925b258e",
   "metadata": {},
   "outputs": [
    {
     "name": "stdout",
     "output_type": "stream",
     "text": [
      "accuracy_linear3 = 0.624765478424015\n"
     ]
    }
   ],
   "source": [
    "accuracy_linear3 = accuracy_score(y_test, SVM_Model_linear3.predict(x_test))\n",
    "print(\"accuracy_linear3 =\", accuracy_linear3 )"
   ]
  },
  {
   "cell_type": "code",
   "execution_count": 20,
   "id": "d9719e95-1b50-4ca4-af95-d799a6eba95f",
   "metadata": {},
   "outputs": [
    {
     "name": "stdout",
     "output_type": "stream",
     "text": [
      "SVM prediction:\n",
      " ['clear' 'clear' 'not clear' ... 'clear' 'not clear' 'clear']\n",
      "Actual:\n",
      "3015    not clear\n",
      "599         clear\n",
      "415         clear\n",
      "1708    not clear\n",
      "3927        clear\n",
      "          ...    \n",
      "5925    not clear\n",
      "7432    not clear\n",
      "7499    not clear\n",
      "315         clear\n",
      "7677        clear\n",
      "Name: weather, Length: 1599, dtype: category\n",
      "Categories (2, object): ['clear', 'not clear']\n"
     ]
    }
   ],
   "source": [
    "import sklearn\n",
    "SVM_Model_rbf1=sklearn.svm.SVC(C=1.0, kernel='rbf', degree=3, gamma=\"auto\")\n",
    "SVM_Model_rbf1.fit(x_train, y_train)\n",
    "\n",
    "print(\"SVM prediction:\\n\", SVM_Model_rbf1.predict(x_test))\n",
    "print(\"Actual:\")\n",
    "print(y_test)"
   ]
  },
  {
   "cell_type": "code",
   "execution_count": 21,
   "id": "2d962826-c8eb-4b1a-b085-745212d1ed9b",
   "metadata": {},
   "outputs": [
    {
     "data": {
      "image/png": "[encoded data removed]",
      "text/plain": [
       "<Figure size 640x480 with 1 Axes>"
      ]
     },
     "metadata": {},
     "output_type": "display_data"
    }
   ],
   "source": [
    "SVM_rbf1_matrix = confusion_matrix(y_test, SVM_Model_rbf1.predict(x_test))\n",
    "\n",
    "# if only first row values are annotated then upgrade your seaborn\n",
    "# pip install seaborn --upgrade\n",
    "sns.heatmap(SVM_rbf1_matrix, annot=True, fmt='d', xticklabels=labels, yticklabels=labels, cmap='Blues', cbar=False)\n",
    "plt.title(\"Confusion Matrix\",fontsize=15)\n",
    "plt.xlabel(\"Actual\", fontsize=10)\n",
    "plt.ylabel(\"Predicted\", fontsize=10)\n",
    "plt.show()"
   ]
  },
  {
   "cell_type": "code",
   "execution_count": 52,
   "id": "1be7bb65-09c6-4852-9276-dad34eaf6da7",
   "metadata": {},
   "outputs": [
    {
     "name": "stdout",
     "output_type": "stream",
     "text": [
      "accuracy_rbf1 = 0.5972482801751094\n"
     ]
    }
   ],
   "source": [
    "accuracy_rbf1 = accuracy_score(y_test, SVM_Model_rbf1.predict(x_test))\n",
    "print(\"accuracy_rbf1 =\", accuracy_rbf1 )"
   ]
  },
  {
   "cell_type": "code",
   "execution_count": 23,
   "id": "99027a11-af5b-4026-b94d-92205d59b198",
   "metadata": {},
   "outputs": [
    {
     "name": "stdout",
     "output_type": "stream",
     "text": [
      "SVM prediction:\n",
      " ['clear' 'clear' 'not clear' ... 'not clear' 'not clear' 'clear']\n",
      "Actual:\n",
      "3015    not clear\n",
      "599         clear\n",
      "415         clear\n",
      "1708    not clear\n",
      "3927        clear\n",
      "          ...    \n",
      "5925    not clear\n",
      "7432    not clear\n",
      "7499    not clear\n",
      "315         clear\n",
      "7677        clear\n",
      "Name: weather, Length: 1599, dtype: category\n",
      "Categories (2, object): ['clear', 'not clear']\n"
     ]
    }
   ],
   "source": [
    "SVM_Model_rbf2=sklearn.svm.SVC(C=10, kernel='rbf', degree=3, gamma=\"auto\")\n",
    "SVM_Model_rbf2.fit(x_train, y_train)\n",
    "\n",
    "print(\"SVM prediction:\\n\", SVM_Model_rbf2.predict(x_test))\n",
    "print(\"Actual:\")\n",
    "print(y_test)"
   ]
  },
  {
   "cell_type": "code",
   "execution_count": 24,
   "id": "ab34e966-9a7b-4d63-a6a5-65755c175b64",
   "metadata": {},
   "outputs": [
    {
     "data": {
      "image/png": "[encoded data removed]",
      "text/plain": [
       "<Figure size 640x480 with 1 Axes>"
      ]
     },
     "metadata": {},
     "output_type": "display_data"
    }
   ],
   "source": [
    "SVM_rbf2_matrix = confusion_matrix(y_test, SVM_Model_rbf2.predict(x_test))\n",
    "\n",
    "# if only first row values are annotated then upgrade your seaborn\n",
    "# pip install seaborn --upgrade\n",
    "sns.heatmap(SVM_rbf2_matrix, annot=True, fmt='d', xticklabels=labels, yticklabels=labels, cmap='Blues', cbar=False)\n",
    "plt.title(\"Confusion Matrix\",fontsize=15)\n",
    "plt.xlabel(\"Actual\", fontsize=10)\n",
    "plt.ylabel(\"Predicted\", fontsize=10)\n",
    "plt.show()"
   ]
  },
  {
   "cell_type": "code",
   "execution_count": 53,
   "id": "ba8e2366-0bd2-49ac-b443-30f59b80d057",
   "metadata": {},
   "outputs": [
    {
     "name": "stdout",
     "output_type": "stream",
     "text": [
      "accuracy_rbf2 = 0.6016260162601627\n"
     ]
    }
   ],
   "source": [
    "accuracy_rbf2 = accuracy_score(y_test, SVM_Model_rbf2.predict(x_test))\n",
    "print(\"accuracy_rbf2 =\", accuracy_rbf2)"
   ]
  },
  {
   "cell_type": "code",
   "execution_count": 26,
   "id": "25697e01-3ebd-4ed0-9eea-c360c8348afa",
   "metadata": {},
   "outputs": [
    {
     "name": "stdout",
     "output_type": "stream",
     "text": [
      "SVM prediction:\n",
      " ['clear' 'clear' 'not clear' ... 'not clear' 'not clear' 'clear']\n",
      "Actual:\n",
      "3015    not clear\n",
      "599         clear\n",
      "415         clear\n",
      "1708    not clear\n",
      "3927        clear\n",
      "          ...    \n",
      "5925    not clear\n",
      "7432    not clear\n",
      "7499    not clear\n",
      "315         clear\n",
      "7677        clear\n",
      "Name: weather, Length: 1599, dtype: category\n",
      "Categories (2, object): ['clear', 'not clear']\n"
     ]
    }
   ],
   "source": [
    "SVM_Model_rbf3=sklearn.svm.SVC(C=50, kernel='rbf', degree=3, gamma=\"auto\")\n",
    "SVM_Model_rbf3.fit(x_train, y_train)\n",
    "\n",
    "print(\"SVM prediction:\\n\", SVM_Model_rbf3.predict(x_test))\n",
    "print(\"Actual:\")\n",
    "print(y_test)"
   ]
  },
  {
   "cell_type": "code",
   "execution_count": 27,
   "id": "b2a20542-6195-4ed0-9096-66bb691e36d7",
   "metadata": {},
   "outputs": [
    {
     "data": {
      "image/png": "[encoded data removed]",
      "text/plain": [
       "<Figure size 640x480 with 1 Axes>"
      ]
     },
     "metadata": {},
     "output_type": "display_data"
    }
   ],
   "source": [
    "SVM_rbf3_matrix = confusion_matrix(y_test, SVM_Model_rbf3.predict(x_test))\n",
    "\n",
    "# if only first row values are annotated then upgrade your seaborn\n",
    "# pip install seaborn --upgrade\n",
    "sns.heatmap(SVM_rbf3_matrix, annot=True, fmt='d', xticklabels=labels, yticklabels=labels, cmap='Blues', cbar=False)\n",
    "plt.title(\"Confusion Matrix\",fontsize=15)\n",
    "plt.xlabel(\"Actual\", fontsize=10)\n",
    "plt.ylabel(\"Predicted\", fontsize=10)\n",
    "plt.show()"
   ]
  },
  {
   "cell_type": "code",
   "execution_count": 54,
   "id": "3cbe4799-6be6-47b6-835b-fa19d3de3bef",
   "metadata": {},
   "outputs": [
    {
     "name": "stdout",
     "output_type": "stream",
     "text": [
      "accuracy_rbf3 = 0.6016260162601627\n"
     ]
    }
   ],
   "source": [
    "accuracy_rbf3 = accuracy_score(y_test, SVM_Model_rbf3.predict(x_test))\n",
    "print(\"accuracy_rbf3 =\", accuracy_rbf3 )"
   ]
  },
  {
   "cell_type": "code",
   "execution_count": 29,
   "id": "4d7be0a0-7436-4f92-b3cf-9d40511b336c",
   "metadata": {},
   "outputs": [
    {
     "name": "stdout",
     "output_type": "stream",
     "text": [
      "SVM prediction:\n",
      " ['clear' 'not clear' 'clear' ... 'not clear' 'clear' 'clear']\n",
      "Actual:\n",
      "3015    not clear\n",
      "599         clear\n",
      "415         clear\n",
      "1708    not clear\n",
      "3927        clear\n",
      "          ...    \n",
      "5925    not clear\n",
      "7432    not clear\n",
      "7499    not clear\n",
      "315         clear\n",
      "7677        clear\n",
      "Name: weather, Length: 1599, dtype: category\n",
      "Categories (2, object): ['clear', 'not clear']\n"
     ]
    }
   ],
   "source": [
    "SVM_Model_poly1=sklearn.svm.SVC(C=0.0001, kernel='poly', degree=3, gamma=\"auto\")\n",
    "SVM_Model_poly1.fit(x_train, y_train)\n",
    "\n",
    "print(\"SVM prediction:\\n\", SVM_Model_poly1.predict(x_test))\n",
    "print(\"Actual:\")\n",
    "print(y_test)"
   ]
  },
  {
   "cell_type": "code",
   "execution_count": 30,
   "id": "8c3a0e79-02fe-456b-9d52-0016adea32fd",
   "metadata": {},
   "outputs": [
    {
     "data": {
      "image/png": "[encoded data removed]",
      "text/plain": [
       "<Figure size 640x480 with 1 Axes>"
      ]
     },
     "metadata": {},
     "output_type": "display_data"
    }
   ],
   "source": [
    "SVM_poly1_matrix = confusion_matrix(y_test, SVM_Model_poly1.predict(x_test))\n",
    "\n",
    "# if only first row values are annotated then upgrade your seaborn\n",
    "# pip install seaborn --upgrade\n",
    "sns.heatmap(SVM_poly1_matrix, annot=True, fmt='d', xticklabels=labels, yticklabels=labels, cmap='Blues', cbar=False)\n",
    "plt.title(\"Confusion Matrix\",fontsize=15)\n",
    "plt.xlabel(\"Actual\", fontsize=10)\n",
    "plt.ylabel(\"Predicted\", fontsize=10)\n",
    "plt.show()"
   ]
  },
  {
   "cell_type": "code",
   "execution_count": 55,
   "id": "1a27d28b-e2c5-49fd-9a02-9cbcdfd4b76c",
   "metadata": {},
   "outputs": [
    {
     "name": "stdout",
     "output_type": "stream",
     "text": [
      "accuracy_poly1 = 0.6985616010006254\n"
     ]
    }
   ],
   "source": [
    "accuracy_poly1 = accuracy_score(y_test, SVM_Model_poly1.predict(x_test))\n",
    "print(\"accuracy_poly1 =\", accuracy_poly1 )"
   ]
  },
  {
   "cell_type": "code",
   "execution_count": 32,
   "id": "c3d327bc-5b06-44c0-852b-8867e799ef40",
   "metadata": {},
   "outputs": [
    {
     "name": "stdout",
     "output_type": "stream",
     "text": [
      "SVM prediction:\n",
      " ['clear' 'not clear' 'clear' ... 'not clear' 'clear' 'clear']\n",
      "Actual:\n",
      "3015    not clear\n",
      "599         clear\n",
      "415         clear\n",
      "1708    not clear\n",
      "3927        clear\n",
      "          ...    \n",
      "5925    not clear\n",
      "7432    not clear\n",
      "7499    not clear\n",
      "315         clear\n",
      "7677        clear\n",
      "Name: weather, Length: 1599, dtype: category\n",
      "Categories (2, object): ['clear', 'not clear']\n"
     ]
    }
   ],
   "source": [
    "SVM_Model_poly2=sklearn.svm.SVC(C=0.0005, kernel='poly', degree=3, gamma=\"auto\")\n",
    "SVM_Model_poly2.fit(x_train, y_train)\n",
    "\n",
    "print(\"SVM prediction:\\n\", SVM_Model_poly2.predict(x_test))\n",
    "print(\"Actual:\")\n",
    "print(y_test)"
   ]
  },
  {
   "cell_type": "code",
   "execution_count": 33,
   "id": "bf52e693-7ee2-4188-8e59-b2c1a1d275cf",
   "metadata": {},
   "outputs": [
    {
     "data": {
      "image/png": "[encoded data removed]",
      "text/plain": [
       "<Figure size 640x480 with 1 Axes>"
      ]
     },
     "metadata": {},
     "output_type": "display_data"
    }
   ],
   "source": [
    "SVM_poly2_matrix = confusion_matrix(y_test, SVM_Model_poly2.predict(x_test))\n",
    "\n",
    "# if only first row values are annotated then upgrade your seaborn\n",
    "# pip install seaborn --upgrade\n",
    "sns.heatmap(SVM_poly2_matrix, annot=True, fmt='d', xticklabels=labels, yticklabels=labels, cmap='Blues', cbar=False)\n",
    "plt.title(\"Confusion Matrix\",fontsize=15)\n",
    "plt.xlabel(\"Actual\", fontsize=10)\n",
    "plt.ylabel(\"Predicted\", fontsize=10)\n",
    "plt.show()"
   ]
  },
  {
   "cell_type": "code",
   "execution_count": 57,
   "id": "c422dde3-4b96-44de-81da-2e0cb0a1e468",
   "metadata": {},
   "outputs": [
    {
     "name": "stdout",
     "output_type": "stream",
     "text": [
      "accuracy_poly2 = 0.699812382739212\n"
     ]
    }
   ],
   "source": [
    "accuracy_poly2 = accuracy_score(y_test, SVM_Model_poly2.predict(x_test))\n",
    "print(\"accuracy_poly2 =\", accuracy_poly2 )"
   ]
  },
  {
   "cell_type": "code",
   "execution_count": 35,
   "id": "63326574-3259-4986-8896-7e42638e4c2b",
   "metadata": {},
   "outputs": [
    {
     "name": "stdout",
     "output_type": "stream",
     "text": [
      "SVM prediction:\n",
      " ['clear' 'not clear' 'clear' ... 'not clear' 'clear' 'clear']\n",
      "Actual:\n",
      "3015    not clear\n",
      "599         clear\n",
      "415         clear\n",
      "1708    not clear\n",
      "3927        clear\n",
      "          ...    \n",
      "5925    not clear\n",
      "7432    not clear\n",
      "7499    not clear\n",
      "315         clear\n",
      "7677        clear\n",
      "Name: weather, Length: 1599, dtype: category\n",
      "Categories (2, object): ['clear', 'not clear']\n"
     ]
    }
   ],
   "source": [
    "SVM_Model_poly3=sklearn.svm.SVC(C=0.001, kernel='poly', degree=3, gamma=\"auto\")\n",
    "SVM_Model_poly3.fit(x_train, y_train)\n",
    "\n",
    "print(\"SVM prediction:\\n\", SVM_Model_poly3.predict(x_test))\n",
    "print(\"Actual:\")\n",
    "print(y_test)"
   ]
  },
  {
   "cell_type": "code",
   "execution_count": 36,
   "id": "19cbe0f6-693f-414d-85e1-0c3acbe85a4e",
   "metadata": {},
   "outputs": [
    {
     "data": {
      "image/png": "[encoded data removed]",
      "text/plain": [
       "<Figure size 640x480 with 1 Axes>"
      ]
     },
     "metadata": {},
     "output_type": "display_data"
    }
   ],
   "source": [
    "SVM_poly3_matrix = confusion_matrix(y_test, SVM_Model_poly3.predict(x_test))\n",
    "\n",
    "# if only first row values are annotated then upgrade your seaborn\n",
    "# pip install seaborn --upgrade\n",
    "sns.heatmap(SVM_poly3_matrix, annot=True, fmt='d', xticklabels=labels, yticklabels=labels, cmap='Blues', cbar=False)\n",
    "plt.title(\"Confusion Matrix\",fontsize=15)\n",
    "plt.xlabel(\"Actual\", fontsize=10)\n",
    "plt.ylabel(\"Predicted\", fontsize=10)\n",
    "plt.show()"
   ]
  },
  {
   "cell_type": "code",
   "execution_count": 58,
   "id": "cbdd0639-c58d-47c1-b37b-bbe2a0fa359e",
   "metadata": {},
   "outputs": [
    {
     "name": "stdout",
     "output_type": "stream",
     "text": [
      "accuracy_poly3 = 0.7010631644777986\n"
     ]
    }
   ],
   "source": [
    "accuracy_poly3 = accuracy_score(y_test, SVM_Model_poly3.predict(x_test))\n",
    "print(\"accuracy_poly3 =\", accuracy_poly3 )"
   ]
  },
  {
   "cell_type": "code",
   "execution_count": 62,
   "id": "fb130191-7686-4a9a-8b9e-195955ee40be",
   "metadata": {},
   "outputs": [
    {
     "name": "stdout",
     "output_type": "stream",
     "text": [
      "accuracy (Linear, c = 1) = 0.5347091932457786\n",
      "accuracy (Linear, c = 10) = 0.5409631019387117\n",
      "accuracy (Linear, c = 50) = 0.624765478424015\n",
      "accuracy (RBF, c = 1) = 0.5972482801751094\n",
      "accuracy (RBF, c = 10) = 0.6016260162601627\n",
      "accuracy (RBF, c = 50) = 0.6016260162601627\n",
      "accuracy (Polynomial, c = 0.0001) = 0.6985616010006254\n",
      "accuracy (Polynomial, c = 0.0005) = 0.699812382739212\n",
      "accuracy (Polynomial, c = 0.01) = 0.7010631644777986\n"
     ]
    }
   ],
   "source": [
    "print(\"accuracy (Linear, c = 1) =\", accuracy_linear1 )\n",
    "print(\"accuracy (Linear, c = 10) =\", accuracy_linear2 )\n",
    "print(\"accuracy (Linear, c = 50) =\", accuracy_linear3 )\n",
    "print(\"accuracy (RBF, c = 1) =\", accuracy_rbf1)\n",
    "print(\"accuracy (RBF, c = 10) =\", accuracy_rbf2)\n",
    "print(\"accuracy (RBF, c = 50) =\", accuracy_rbf3)\n",
    "print(\"accuracy (Polynomial, c = 0.0001) =\", accuracy_poly1)\n",
    "print(\"accuracy (Polynomial, c = 0.0005) =\", accuracy_poly2)\n",
    "print(\"accuracy (Polynomial, c = 0.01) =\", accuracy_poly3)"
   ]
  },
  {
   "cell_type": "code",
   "execution_count": null,
   "id": "6119d1b3-7a7d-42f4-8943-aeb9208c0cce",
   "metadata": {},
   "outputs": [],
   "source": []
  }
 ],
 "metadata": {
  "kernelspec": {
   "display_name": "Python 3 (ipykernel)",
   "language": "python",
   "name": "python3"
  },
  "language_info": {
   "codemirror_mode": {
    "name": "ipython",
    "version": 3
   },
   "file_extension": ".py",
   "mimetype": "text/x-python",
   "name": "python",
   "nbconvert_exporter": "python",
   "pygments_lexer": "ipython3",
   "version": "3.11.7"
  }
 },
 "nbformat": 4,
 "nbformat_minor": 5
}
