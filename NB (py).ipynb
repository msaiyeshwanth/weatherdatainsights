{
 "cells": [
  {
   "cell_type": "code",
   "execution_count": 1,
   "id": "d0f53865-4434-49ec-99c4-de03b8a2b8d9",
   "metadata": {},
   "outputs": [
    {
     "data": {
      "text/html": [
       "<div>\n",
       "<style scoped>\n",
       "    .dataframe tbody tr th:only-of-type {\n",
       "        vertical-align: middle;\n",
       "    }\n",
       "\n",
       "    .dataframe tbody tr th {\n",
       "        vertical-align: top;\n",
       "    }\n",
       "\n",
       "    .dataframe thead th {\n",
       "        text-align: right;\n",
       "    }\n",
       "</style>\n",
       "<table border=\"1\" class=\"dataframe\">\n",
       "  <thead>\n",
       "    <tr style=\"text-align: right;\">\n",
       "      <th></th>\n",
       "      <th>datetime</th>\n",
       "      <th>city</th>\n",
       "      <th>humidity</th>\n",
       "      <th>pressure</th>\n",
       "      <th>temperature</th>\n",
       "      <th>wind_speed</th>\n",
       "      <th>wind_direction</th>\n",
       "      <th>latitude</th>\n",
       "      <th>longitude</th>\n",
       "      <th>weather</th>\n",
       "    </tr>\n",
       "  </thead>\n",
       "  <tbody>\n",
       "    <tr>\n",
       "      <th>0</th>\n",
       "      <td>2017-01-01 00:00:00</td>\n",
       "      <td>Portland</td>\n",
       "      <td>96.0</td>\n",
       "      <td>1017.0</td>\n",
       "      <td>35.582</td>\n",
       "      <td>3.0</td>\n",
       "      <td>160.0</td>\n",
       "      <td>45.523449</td>\n",
       "      <td>-122.676208</td>\n",
       "      <td>foggy</td>\n",
       "    </tr>\n",
       "    <tr>\n",
       "      <th>1</th>\n",
       "      <td>2017-01-01 01:00:00</td>\n",
       "      <td>Portland</td>\n",
       "      <td>96.0</td>\n",
       "      <td>1016.0</td>\n",
       "      <td>35.852</td>\n",
       "      <td>2.0</td>\n",
       "      <td>200.0</td>\n",
       "      <td>45.523449</td>\n",
       "      <td>-122.676208</td>\n",
       "      <td>rainy</td>\n",
       "    </tr>\n",
       "    <tr>\n",
       "      <th>2</th>\n",
       "      <td>2017-01-01 02:00:00</td>\n",
       "      <td>Portland</td>\n",
       "      <td>99.0</td>\n",
       "      <td>1015.0</td>\n",
       "      <td>35.600</td>\n",
       "      <td>3.0</td>\n",
       "      <td>221.0</td>\n",
       "      <td>45.523449</td>\n",
       "      <td>-122.676208</td>\n",
       "      <td>foggy</td>\n",
       "    </tr>\n",
       "    <tr>\n",
       "      <th>3</th>\n",
       "      <td>2017-01-01 03:00:00</td>\n",
       "      <td>Portland</td>\n",
       "      <td>99.0</td>\n",
       "      <td>1014.0</td>\n",
       "      <td>35.312</td>\n",
       "      <td>2.0</td>\n",
       "      <td>170.0</td>\n",
       "      <td>45.523449</td>\n",
       "      <td>-122.676208</td>\n",
       "      <td>rainy</td>\n",
       "    </tr>\n",
       "    <tr>\n",
       "      <th>4</th>\n",
       "      <td>2017-01-01 04:00:00</td>\n",
       "      <td>Portland</td>\n",
       "      <td>99.0</td>\n",
       "      <td>1013.0</td>\n",
       "      <td>34.826</td>\n",
       "      <td>1.0</td>\n",
       "      <td>210.0</td>\n",
       "      <td>45.523449</td>\n",
       "      <td>-122.676208</td>\n",
       "      <td>rainy</td>\n",
       "    </tr>\n",
       "  </tbody>\n",
       "</table>\n",
       "</div>"
      ],
      "text/plain": [
       "              datetime      city  humidity  pressure  temperature  wind_speed  \\\n",
       "0  2017-01-01 00:00:00  Portland      96.0    1017.0       35.582         3.0   \n",
       "1  2017-01-01 01:00:00  Portland      96.0    1016.0       35.852         2.0   \n",
       "2  2017-01-01 02:00:00  Portland      99.0    1015.0       35.600         3.0   \n",
       "3  2017-01-01 03:00:00  Portland      99.0    1014.0       35.312         2.0   \n",
       "4  2017-01-01 04:00:00  Portland      99.0    1013.0       34.826         1.0   \n",
       "\n",
       "   wind_direction   latitude   longitude weather  \n",
       "0           160.0  45.523449 -122.676208   foggy  \n",
       "1           200.0  45.523449 -122.676208   rainy  \n",
       "2           221.0  45.523449 -122.676208   foggy  \n",
       "3           170.0  45.523449 -122.676208   rainy  \n",
       "4           210.0  45.523449 -122.676208   rainy  "
      ]
     },
     "execution_count": 1,
     "metadata": {},
     "output_type": "execute_result"
    }
   ],
   "source": [
    "# loading cleaned weather dataset\n",
    "import pandas as pd\n",
    "import numpy as np\n",
    "df = pd.read_csv('cleaned_data.csv')\n",
    "df.head()"
   ]
  },
  {
   "cell_type": "code",
   "execution_count": 2,
   "id": "a9512021-ac75-4a97-b1f8-6836918e1975",
   "metadata": {},
   "outputs": [
    {
     "data": {
      "text/html": [
       "<div>\n",
       "<style scoped>\n",
       "    .dataframe tbody tr th:only-of-type {\n",
       "        vertical-align: middle;\n",
       "    }\n",
       "\n",
       "    .dataframe tbody tr th {\n",
       "        vertical-align: top;\n",
       "    }\n",
       "\n",
       "    .dataframe thead th {\n",
       "        text-align: right;\n",
       "    }\n",
       "</style>\n",
       "<table border=\"1\" class=\"dataframe\">\n",
       "  <thead>\n",
       "    <tr style=\"text-align: right;\">\n",
       "      <th></th>\n",
       "      <th>datetime</th>\n",
       "      <th>humidity</th>\n",
       "      <th>pressure</th>\n",
       "      <th>temperature</th>\n",
       "      <th>wind_speed</th>\n",
       "      <th>wind_direction</th>\n",
       "      <th>latitude</th>\n",
       "      <th>longitude</th>\n",
       "      <th>weather</th>\n",
       "    </tr>\n",
       "  </thead>\n",
       "  <tbody>\n",
       "    <tr>\n",
       "      <th>0</th>\n",
       "      <td>2017-01-01 00:00:00</td>\n",
       "      <td>36.0</td>\n",
       "      <td>1006.0</td>\n",
       "      <td>37.814</td>\n",
       "      <td>3.0</td>\n",
       "      <td>10.0</td>\n",
       "      <td>39.739151</td>\n",
       "      <td>-104.984703</td>\n",
       "      <td>clear</td>\n",
       "    </tr>\n",
       "    <tr>\n",
       "      <th>1</th>\n",
       "      <td>2017-01-01 01:00:00</td>\n",
       "      <td>36.0</td>\n",
       "      <td>1006.0</td>\n",
       "      <td>29.174</td>\n",
       "      <td>2.0</td>\n",
       "      <td>340.0</td>\n",
       "      <td>39.739151</td>\n",
       "      <td>-104.984703</td>\n",
       "      <td>cloudy</td>\n",
       "    </tr>\n",
       "    <tr>\n",
       "      <th>2</th>\n",
       "      <td>2017-01-01 02:00:00</td>\n",
       "      <td>68.0</td>\n",
       "      <td>1008.0</td>\n",
       "      <td>28.418</td>\n",
       "      <td>1.0</td>\n",
       "      <td>189.0</td>\n",
       "      <td>39.739151</td>\n",
       "      <td>-104.984703</td>\n",
       "      <td>clear</td>\n",
       "    </tr>\n",
       "    <tr>\n",
       "      <th>3</th>\n",
       "      <td>2017-01-01 03:00:00</td>\n",
       "      <td>79.0</td>\n",
       "      <td>1008.0</td>\n",
       "      <td>26.924</td>\n",
       "      <td>1.0</td>\n",
       "      <td>210.0</td>\n",
       "      <td>39.739151</td>\n",
       "      <td>-104.984703</td>\n",
       "      <td>clear</td>\n",
       "    </tr>\n",
       "    <tr>\n",
       "      <th>4</th>\n",
       "      <td>2017-01-01 04:00:00</td>\n",
       "      <td>79.0</td>\n",
       "      <td>1008.0</td>\n",
       "      <td>25.142</td>\n",
       "      <td>1.0</td>\n",
       "      <td>189.0</td>\n",
       "      <td>39.739151</td>\n",
       "      <td>-104.984703</td>\n",
       "      <td>clear</td>\n",
       "    </tr>\n",
       "    <tr>\n",
       "      <th>...</th>\n",
       "      <td>...</td>\n",
       "      <td>...</td>\n",
       "      <td>...</td>\n",
       "      <td>...</td>\n",
       "      <td>...</td>\n",
       "      <td>...</td>\n",
       "      <td>...</td>\n",
       "      <td>...</td>\n",
       "      <td>...</td>\n",
       "    </tr>\n",
       "    <tr>\n",
       "      <th>7988</th>\n",
       "      <td>2017-11-29 20:00:00</td>\n",
       "      <td>18.0</td>\n",
       "      <td>1016.0</td>\n",
       "      <td>61.538</td>\n",
       "      <td>3.0</td>\n",
       "      <td>310.0</td>\n",
       "      <td>39.739151</td>\n",
       "      <td>-104.984703</td>\n",
       "      <td>cloudy</td>\n",
       "    </tr>\n",
       "    <tr>\n",
       "      <th>7989</th>\n",
       "      <td>2017-11-29 21:00:00</td>\n",
       "      <td>12.0</td>\n",
       "      <td>1018.0</td>\n",
       "      <td>63.590</td>\n",
       "      <td>6.0</td>\n",
       "      <td>300.0</td>\n",
       "      <td>39.739151</td>\n",
       "      <td>-104.984703</td>\n",
       "      <td>clear</td>\n",
       "    </tr>\n",
       "    <tr>\n",
       "      <th>7990</th>\n",
       "      <td>2017-11-29 22:00:00</td>\n",
       "      <td>15.0</td>\n",
       "      <td>1018.0</td>\n",
       "      <td>61.808</td>\n",
       "      <td>3.0</td>\n",
       "      <td>340.0</td>\n",
       "      <td>39.739151</td>\n",
       "      <td>-104.984703</td>\n",
       "      <td>clear</td>\n",
       "    </tr>\n",
       "    <tr>\n",
       "      <th>7991</th>\n",
       "      <td>2017-11-29 23:00:00</td>\n",
       "      <td>28.0</td>\n",
       "      <td>1020.0</td>\n",
       "      <td>60.836</td>\n",
       "      <td>1.0</td>\n",
       "      <td>10.0</td>\n",
       "      <td>39.739151</td>\n",
       "      <td>-104.984703</td>\n",
       "      <td>foggy</td>\n",
       "    </tr>\n",
       "    <tr>\n",
       "      <th>7992</th>\n",
       "      <td>2017-11-30 00:00:00</td>\n",
       "      <td>31.0</td>\n",
       "      <td>1021.0</td>\n",
       "      <td>53.654</td>\n",
       "      <td>3.0</td>\n",
       "      <td>30.0</td>\n",
       "      <td>39.739151</td>\n",
       "      <td>-104.984703</td>\n",
       "      <td>clear</td>\n",
       "    </tr>\n",
       "  </tbody>\n",
       "</table>\n",
       "<p>7993 rows × 9 columns</p>\n",
       "</div>"
      ],
      "text/plain": [
       "                 datetime  humidity  pressure  temperature  wind_speed  \\\n",
       "0     2017-01-01 00:00:00      36.0    1006.0       37.814         3.0   \n",
       "1     2017-01-01 01:00:00      36.0    1006.0       29.174         2.0   \n",
       "2     2017-01-01 02:00:00      68.0    1008.0       28.418         1.0   \n",
       "3     2017-01-01 03:00:00      79.0    1008.0       26.924         1.0   \n",
       "4     2017-01-01 04:00:00      79.0    1008.0       25.142         1.0   \n",
       "...                   ...       ...       ...          ...         ...   \n",
       "7988  2017-11-29 20:00:00      18.0    1016.0       61.538         3.0   \n",
       "7989  2017-11-29 21:00:00      12.0    1018.0       63.590         6.0   \n",
       "7990  2017-11-29 22:00:00      15.0    1018.0       61.808         3.0   \n",
       "7991  2017-11-29 23:00:00      28.0    1020.0       60.836         1.0   \n",
       "7992  2017-11-30 00:00:00      31.0    1021.0       53.654         3.0   \n",
       "\n",
       "      wind_direction   latitude   longitude weather  \n",
       "0               10.0  39.739151 -104.984703   clear  \n",
       "1              340.0  39.739151 -104.984703  cloudy  \n",
       "2              189.0  39.739151 -104.984703   clear  \n",
       "3              210.0  39.739151 -104.984703   clear  \n",
       "4              189.0  39.739151 -104.984703   clear  \n",
       "...              ...        ...         ...     ...  \n",
       "7988           310.0  39.739151 -104.984703  cloudy  \n",
       "7989           300.0  39.739151 -104.984703   clear  \n",
       "7990           340.0  39.739151 -104.984703   clear  \n",
       "7991            10.0  39.739151 -104.984703   foggy  \n",
       "7992            30.0  39.739151 -104.984703   clear  \n",
       "\n",
       "[7993 rows x 9 columns]"
      ]
     },
     "execution_count": 2,
     "metadata": {},
     "output_type": "execute_result"
    }
   ],
   "source": [
    "# filtering denver data\n",
    "denver_df = df[df['city'] == 'Denver']\n",
    "# dropping city as only denver data is present and resetting the index\n",
    "denver_df = denver_df.drop(columns = ['city']).reset_index(drop=True)\n",
    "denver_df"
   ]
  },
  {
   "cell_type": "code",
   "execution_count": 3,
   "id": "74d7d720-b038-46ae-af4a-30361805b567",
   "metadata": {},
   "outputs": [],
   "source": [
    "# creating a function to label data based on weather description\n",
    "def weather_labels(description):\n",
    "    if 'clear' in description:\n",
    "        return 'clear'\n",
    "    else:\n",
    "        return 'not clear'"
   ]
  },
  {
   "cell_type": "code",
   "execution_count": 4,
   "id": "0ccbacc0-441d-4071-98f3-c2126d63323a",
   "metadata": {},
   "outputs": [
    {
     "data": {
      "text/plain": [
       "weather\n",
       "clear        4161\n",
       "not clear    3832\n",
       "Name: count, dtype: int64"
      ]
     },
     "execution_count": 4,
     "metadata": {},
     "output_type": "execute_result"
    }
   ],
   "source": [
    "# applying weather_labels function\n",
    "denver_df['weather'] = denver_df['weather'].apply(weather_labels)\n",
    "denver_df.weather.value_counts()"
   ]
  },
  {
   "cell_type": "code",
   "execution_count": 5,
   "id": "fda716e6-60d4-4c8c-80f0-8b62456dd2b0",
   "metadata": {},
   "outputs": [
    {
     "data": {
      "text/plain": [
       "datetime            object\n",
       "humidity           float64\n",
       "pressure           float64\n",
       "temperature        float64\n",
       "wind_speed         float64\n",
       "wind_direction     float64\n",
       "latitude           float64\n",
       "longitude          float64\n",
       "weather           category\n",
       "dtype: object"
      ]
     },
     "execution_count": 5,
     "metadata": {},
     "output_type": "execute_result"
    }
   ],
   "source": [
    "# converting weather into category type\n",
    "denver_df['weather'] = denver_df['weather'].astype('category')\n",
    "denver_df.dtypes"
   ]
  },
  {
   "cell_type": "code",
   "execution_count": 6,
   "id": "22261dd5-30f4-4b28-963b-517e0036fa62",
   "metadata": {},
   "outputs": [],
   "source": [
    "# In Python - the Naive Bayes work ONLY on quantitative data\n",
    "x = denver_df.drop(columns=['datetime', 'latitude', 'longitude', 'weather'])\n",
    "y = denver_df['weather']"
   ]
  },
  {
   "cell_type": "code",
   "execution_count": 7,
   "id": "24dca892-a8c4-4cf7-9259-e8a5d0d338e2",
   "metadata": {},
   "outputs": [],
   "source": [
    "from sklearn.model_selection import train_test_split\n",
    "# creating disjoint train and test data\n",
    "# using stratified sampling to ensure that each class is represented proportionally in both sets.\n",
    "x_train, x_test, y_train, y_test = train_test_split(x, y, test_size = 0.2, random_state=123)"
   ]
  },
  {
   "cell_type": "code",
   "execution_count": 8,
   "id": "b9280bac-c13a-4177-a5e3-b3f64b7099bf",
   "metadata": {},
   "outputs": [
    {
     "data": {
      "text/plain": [
       "weather\n",
       "clear        3320\n",
       "not clear    3074\n",
       "Name: count, dtype: int64"
      ]
     },
     "execution_count": 8,
     "metadata": {},
     "output_type": "execute_result"
    }
   ],
   "source": [
    "y_train.value_counts()"
   ]
  },
  {
   "cell_type": "code",
   "execution_count": 9,
   "id": "2dbdb7bc-82f0-4568-b18e-b6ad1666ccb5",
   "metadata": {},
   "outputs": [
    {
     "data": {
      "text/plain": [
       "weather\n",
       "clear        841\n",
       "not clear    758\n",
       "Name: count, dtype: int64"
      ]
     },
     "execution_count": 9,
     "metadata": {},
     "output_type": "execute_result"
    }
   ],
   "source": [
    "y_test.value_counts()"
   ]
  },
  {
   "cell_type": "code",
   "execution_count": 18,
   "id": "2efb85a3-c34e-4c22-8743-9170e4938441",
   "metadata": {},
   "outputs": [
    {
     "name": "stdout",
     "output_type": "stream",
     "text": [
      "Accuracy = 0.6685428392745466\n"
     ]
    }
   ],
   "source": [
    "from sklearn.naive_bayes import GaussianNB\n",
    "from sklearn.metrics import accuracy_score, classification_report\n",
    "\n",
    "# instantiating the model.\n",
    "# there are negative values in temperature. So multinomail NB will not work. use Gaussian NB\n",
    "MyNB= GaussianNB()\n",
    "\n",
    "# training the model\n",
    "MyNB = MyNB.fit(x_train, y_train)\n",
    "\n",
    "# predicting the label on test data\n",
    "y_pred = MyNB.predict(x_test)\n",
    "\n",
    "# calculating accuracy\n",
    "accuracy = accuracy_score(y_test, y_pred)\n",
    "print(\"Accuracy =\", accuracy )"
   ]
  },
  {
   "cell_type": "code",
   "execution_count": 29,
   "id": "849b42ee-01a3-47cc-9286-038a853c70d7",
   "metadata": {},
   "outputs": [
    {
     "name": "stdout",
     "output_type": "stream",
     "text": [
      "\n",
      "The prediction from NB is:\n",
      "['clear' 'not clear' 'clear' ... 'not clear' 'not clear' 'clear']\n",
      "\n",
      "The actual labels are:\n",
      "3015    not clear\n",
      "599         clear\n",
      "415         clear\n",
      "1708    not clear\n",
      "3927        clear\n",
      "          ...    \n",
      "5925    not clear\n",
      "7432    not clear\n",
      "7499    not clear\n",
      "315         clear\n",
      "7677        clear\n",
      "Name: weather, Length: 1599, dtype: category\n",
      "Categories (2, object): ['clear', 'not clear']\n"
     ]
    }
   ],
   "source": [
    "print(\"\\nThe prediction from NB is:\")\n",
    "print(y_pred)\n",
    "print(\"\\nThe actual labels are:\")\n",
    "print(y_test)"
   ]
  },
  {
   "cell_type": "code",
   "execution_count": 20,
   "id": "db382d03-4ada-4157-8ec4-0b0cc57220b9",
   "metadata": {},
   "outputs": [
    {
     "data": {
      "image/png": "[encoded data removed]",
      "text/plain": [
       "<Figure size 640x480 with 1 Axes>"
      ]
     },
     "metadata": {},
     "output_type": "display_data"
    }
   ],
   "source": [
    "import seaborn as sns\n",
    "import numpy as np\n",
    "import matplotlib.pyplot as plt\n",
    "from sklearn.metrics import confusion_matrix\n",
    "\n",
    "labels = y.unique()\n",
    "MyNB_cm = confusion_matrix(y_test, y_pred)\n",
    "\n",
    "# if only first row values are annotated then upgrade your seaborn\n",
    "# pip install seaborn --upgrade\n",
    "sns.heatmap(MyNB_cm, annot=True, fmt='d', xticklabels=labels, yticklabels=labels, cmap='Blues', cbar=False)\n",
    "plt.title(\"Confusion Matrix\",fontsize=15)\n",
    "plt.xlabel(\"Actual\", fontsize=10)\n",
    "plt.ylabel(\"Predicted\", fontsize=10)\n",
    "plt.show()"
   ]
  },
  {
   "cell_type": "code",
   "execution_count": 28,
   "id": "ff61ca68-8d05-419b-89ea-a4d2111c2f00",
   "metadata": {},
   "outputs": [
    {
     "data": {
      "text/html": [
       "<div>\n",
       "<style scoped>\n",
       "    .dataframe tbody tr th:only-of-type {\n",
       "        vertical-align: middle;\n",
       "    }\n",
       "\n",
       "    .dataframe tbody tr th {\n",
       "        vertical-align: top;\n",
       "    }\n",
       "\n",
       "    .dataframe thead th {\n",
       "        text-align: right;\n",
       "    }\n",
       "</style>\n",
       "<table border=\"1\" class=\"dataframe\">\n",
       "  <thead>\n",
       "    <tr style=\"text-align: right;\">\n",
       "      <th></th>\n",
       "      <th>clear</th>\n",
       "      <th>not clear</th>\n",
       "    </tr>\n",
       "  </thead>\n",
       "  <tbody>\n",
       "    <tr>\n",
       "      <th>0</th>\n",
       "      <td>0.730224</td>\n",
       "      <td>0.269776</td>\n",
       "    </tr>\n",
       "    <tr>\n",
       "      <th>1</th>\n",
       "      <td>0.432377</td>\n",
       "      <td>0.567623</td>\n",
       "    </tr>\n",
       "    <tr>\n",
       "      <th>2</th>\n",
       "      <td>0.519946</td>\n",
       "      <td>0.480054</td>\n",
       "    </tr>\n",
       "    <tr>\n",
       "      <th>3</th>\n",
       "      <td>0.320041</td>\n",
       "      <td>0.679959</td>\n",
       "    </tr>\n",
       "    <tr>\n",
       "      <th>4</th>\n",
       "      <td>0.778027</td>\n",
       "      <td>0.221973</td>\n",
       "    </tr>\n",
       "  </tbody>\n",
       "</table>\n",
       "</div>"
      ],
      "text/plain": [
       "      clear  not clear\n",
       "0  0.730224   0.269776\n",
       "1  0.432377   0.567623\n",
       "2  0.519946   0.480054\n",
       "3  0.320041   0.679959\n",
       "4  0.778027   0.221973"
      ]
     },
     "execution_count": 28,
     "metadata": {},
     "output_type": "execute_result"
    }
   ],
   "source": [
    "# prediction probabilities\n",
    "# columns are the labels in alphabetical order\n",
    "# The decimal in the matrix are the prob of being that label\n",
    "pred_probs = MyNB.predict_proba(x_test)\n",
    "pred_probs_df = pd.DataFrame(pred_probs, columns=['clear', 'not clear'])\n",
    "pred_probs_df.head()"
   ]
  }
 ],
 "metadata": {
  "kernelspec": {
   "display_name": "Python 3 (ipykernel)",
   "language": "python",
   "name": "python3"
  },
  "language_info": {
   "codemirror_mode": {
    "name": "ipython",
    "version": 3
   },
   "file_extension": ".py",
   "mimetype": "text/x-python",
   "name": "python",
   "nbconvert_exporter": "python",
   "pygments_lexer": "ipython3",
   "version": "3.11.7"
  }
 },
 "nbformat": 4,
 "nbformat_minor": 5
}
